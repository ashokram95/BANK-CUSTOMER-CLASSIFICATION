{
  "cells": [
    {
      "cell_type": "markdown",
      "id": "c03a6344",
      "metadata": {
        "id": "c03a6344"
      },
      "source": [
        "# Introduction"
      ]
    },
    {
      "cell_type": "markdown",
      "id": "e8fa13f8",
      "metadata": {
        "id": "e8fa13f8"
      },
      "source": [
        "As recent survey taken by the Portuguese bank  on their revenue has given them an financially shaking results which id declining the growth of their sector in banking , with investigation , thy have  found out that roost cause of this issue is their clients are not doing frequent deposits as they were doing earlier , as we know these BFSI sectors usually use clients investments as like deposit allows them to have a hold on it over certain period which helps them to invest on higher gain finance sector to earn profit on it , move over this make the clients to invest in insurance , funds depending on their deposit to increase the revenue of the bank , so the ultimate goal of the Portuguese bank is to analyse on the customer who have higher chance of subscribing for their term deposit by and focussing on marketing efforts to wards them "
      ]
    },
    {
      "cell_type": "markdown",
      "id": "a8d2bde3",
      "metadata": {
        "id": "a8d2bde3"
      },
      "source": [
        "# Initial Data Set Understanding and Information "
      ]
    },
    {
      "cell_type": "markdown",
      "id": "93fbacf4",
      "metadata": {
        "id": "93fbacf4"
      },
      "source": [
        "The data set consists of 41188 customer records and 21 inputs feature  including the target variable"
      ]
    },
    {
      "cell_type": "markdown",
      "id": "bf892c27",
      "metadata": {
        "id": "bf892c27"
      },
      "source": [
        "Bank Customer data:"
      ]
    },
    {
      "cell_type": "markdown",
      "id": "edbbb30e",
      "metadata": {
        "id": "edbbb30e"
      },
      "source": [
        "•Age (numeric)\n",
        "\n",
        "•Job: type of job (categorical: 'admin.', 'blue-collar', 'entrepreneur', 'housemaid', 'management', 'retired', 'self-employed', 'services', 'student', 'technician', 'unemployed', 'unknown')\n",
        "•Marital: marital status (categorical: 'divorced', 'married', 'single', 'unknown' ; note: 'divorced' means divorced or widowed)\n",
        "•Education (categorical: 'basic.4y', 'basic.6y', 'basic.9y', 'high.school', 'illiterate', 'professional.course', 'university.degree', 'unknown')\n",
        "•Default: has credit in default? (categorical: 'no', 'yes', 'unknown')\n",
        "•Housing: has housing loan? (categorical: 'no', 'yes', 'unknown')\n",
        "•Loan: has personal loan? (categorical: 'no', 'yes', 'unknown')"
      ]
    },
    {
      "cell_type": "markdown",
      "id": "923b0e0c",
      "metadata": {
        "id": "923b0e0c"
      },
      "source": [
        "Information on Contact trial of the current campaign with Customers:"
      ]
    },
    {
      "cell_type": "markdown",
      "id": "2910fdb6",
      "metadata": {
        "id": "2910fdb6"
      },
      "source": [
        "•Contact: contact communication type (categorical: 'cellular','telephone')\n",
        "\n",
        "•Month: last contact month of year (categorical: 'jan', 'feb', 'mar', ..., 'nov', 'dec')\n",
        "\n",
        "•Day_of_week: last contact day of the week (categorical: 'mon','tue','wed','thu','fri')\n",
        "\n",
        "•Duration: last contact duration, in seconds (numeric). \n",
        "Important note: This characteristic has a significant impact on the output target, for example, if duration=0, y='no'. However, the length is unknown prior to making a call. Immediately upon the call's conclusion, y is evidently known. Thus, if the goal is to build a realistic predictive model, this input should only be used for benchmarking purposes and should be removed..\n",
        "\n",
        "•Campaign: number of contacts performed during this campaign and for this client (numeric, includes last contact)\n",
        "\n",
        "•Pdays: number of days that passed by after the client was last contacted from a previous campaign (numeric; 999 means client was not previously contacted)\n",
        "\n",
        "•Previous: number of contacts performed before this campaign and for this client (numeric)\n",
        "\n",
        "•Poutcome: outcome of the previous marketing campaign (categorical: 'failure','nonexistent','success')\n",
        "    "
      ]
    },
    {
      "cell_type": "markdown",
      "id": "38cf8c4b",
      "metadata": {
        "id": "38cf8c4b"
      },
      "source": [
        "Social and economic info on Customer"
      ]
    },
    {
      "cell_type": "markdown",
      "id": "0375ea86",
      "metadata": {
        "id": "0375ea86"
      },
      "source": [
        "•Emp.var.rate: employment variation rate - quarterly indicator (numeric)\n",
        "•Cons.price.idx: consumer price index - monthly indicator (numeric)\n",
        "•Cons.conf.idx: consumer confidence index - monthly indicator (numeric)\n",
        "•Euribor3m: euribor 3 month rate - daily indicator (numeric)\n",
        "•Nr.employed: number of employees - quarterly indicator (numeric)"
      ]
    },
    {
      "cell_type": "markdown",
      "id": "e926d144",
      "metadata": {
        "id": "e926d144"
      },
      "source": [
        "Target Variable:\n",
        "•Subscribed - has the client subscribed a term deposit? (binary: 'yes', 'no')"
      ]
    },
    {
      "cell_type": "markdown",
      "id": "2036b9aa",
      "metadata": {
        "id": "2036b9aa"
      },
      "source": [
        "Source:\n",
        "•Dataset from : https://www.kaggle.com/datasets/bank-marketing"
      ]
    },
    {
      "cell_type": "code",
      "execution_count": 1,
      "id": "adaff5a6",
      "metadata": {
        "id": "adaff5a6"
      },
      "outputs": [],
      "source": [
        "#Importing all libraries required for Computation\n",
        "import pandas as pd \n",
        "import numpy as np\n",
        "import matplotlib.pyplot as plt\n",
        "import seaborn as sns\n",
        "from sklearn.preprocessing import OneHotEncoder\n",
        "from sklearn.model_selection import train_test_split\n",
        "import warnings\n",
        "warnings.filterwarnings('ignore')\n",
        "\n",
        "pd.set_option('display.max_columns', None)\n",
        "pd.set_option('display.max_rows', None)\n",
        "\n",
        "from sklearn.model_selection import train_test_split, GridSearchCV\n",
        "from sklearn.linear_model import LogisticRegression\n",
        "from sklearn.ensemble import RandomForestClassifier\n",
        "from sklearn.metrics import (\n",
        "    roc_auc_score, \n",
        "    plot_roc_curve, \n",
        "    precision_recall_curve,\n",
        "    plot_precision_recall_curve,\n",
        "    average_precision_score,\n",
        "    auc)\n",
        "\n",
        "# for feature engineering\n",
        "#!pip install feature_engine\n",
        "#!pip install imblearn\n",
        "from feature_engine import encoding as ce\n",
        "from sklearn import preprocessing\n",
        "from statsmodels.stats.outliers_influence import variance_inflation_factor\n",
        "from sklearn.preprocessing import StandardScaler\n",
        "from sklearn.ensemble import RandomForestClassifier\n",
        "from sklearn.model_selection import RepeatedStratifiedKFold\n",
        "from sklearn.model_selection import GridSearchCV\n",
        "from sklearn.metrics import accuracy_score, confusion_matrix, classification_report\n",
        "from sklearn.model_selection import cross_val_score\n",
        "from sklearn import metrics #Import scikit-learn metrics module for accuracy calculation\n",
        "from imblearn.ensemble import EasyEnsembleClassifier"
      ]
    },
    {
      "cell_type": "code",
      "execution_count": 2,
      "id": "14qRsvMAaKYL",
      "metadata": {
        "colab": {
          "base_uri": "https://localhost:8080/",
          "height": 73,
          "resources": {
            "http://localhost:8080/nbextensions/google.colab/files.js": {
              "data": "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",
              "headers": [
                [
                  "content-type",
                  "application/javascript"
                ]
              ],
              "ok": true,
              "status": 200,
              "status_text": ""
            }
          }
        },
        "id": "14qRsvMAaKYL",
        "outputId": "2e938381-0b4b-42a9-a16e-c712e0d6b4bd"
      },
      "outputs": [
        {
          "output_type": "display_data",
          "data": {
            "text/plain": [
              "<IPython.core.display.HTML object>"
            ],
            "text/html": [
              "\n",
              "     <input type=\"file\" id=\"files-2cef28c2-1fc7-412a-ad31-e53cfd6c5e2c\" name=\"files[]\" multiple disabled\n",
              "        style=\"border:none\" />\n",
              "     <output id=\"result-2cef28c2-1fc7-412a-ad31-e53cfd6c5e2c\">\n",
              "      Upload widget is only available when the cell has been executed in the\n",
              "      current browser session. Please rerun this cell to enable.\n",
              "      </output>\n",
              "      <script src=\"/nbextensions/google.colab/files.js\"></script> "
            ]
          },
          "metadata": {}
        },
        {
          "output_type": "stream",
          "name": "stdout",
          "text": [
            "Saving bank_marketing_dataset.csv to bank_marketing_dataset (4).csv\n"
          ]
        }
      ],
      "source": [
        "# To run the code on google colab , file uplaod from local device \n",
        "from google.colab import files\n",
        "uploaded = files.upload()"
      ]
    },
    {
      "cell_type": "code",
      "execution_count": 3,
      "id": "UYVt56rEaKfd",
      "metadata": {
        "id": "UYVt56rEaKfd"
      },
      "outputs": [],
      "source": [
        "# read the data from local drive in to google colab\n",
        "import io\n",
        "bdf = pd.read_csv(io.BytesIO(uploaded['bank_marketing_dataset.csv']))"
      ]
    },
    {
      "cell_type": "code",
      "execution_count": 4,
      "id": "ef0ac8e6",
      "metadata": {
        "id": "ef0ac8e6"
      },
      "outputs": [],
      "source": [
        "# normal pandas read function if you are runid in normal pc and reading the local file for data \n",
        "#bdf = pd.read_csv(\"D:/AI & ML MA336-7-SU/Classfic_data/bank_marketing_dataset.csv\")"
      ]
    },
    {
      "cell_type": "code",
      "execution_count": 5,
      "id": "8d310fde",
      "metadata": {
        "colab": {
          "base_uri": "https://localhost:8080/",
          "height": 0
        },
        "id": "8d310fde",
        "outputId": "e0bf9d25-12a1-4f5b-888a-bdf130d6a952"
      },
      "outputs": [
        {
          "output_type": "stream",
          "name": "stdout",
          "text": [
            "<class 'pandas.core.frame.DataFrame'>\n",
            "RangeIndex: 41188 entries, 0 to 41187\n",
            "Data columns (total 21 columns):\n",
            " #   Column          Non-Null Count  Dtype  \n",
            "---  ------          --------------  -----  \n",
            " 0   age             41188 non-null  int64  \n",
            " 1   job             41188 non-null  object \n",
            " 2   marital         41188 non-null  object \n",
            " 3   education       41188 non-null  object \n",
            " 4   default         41188 non-null  object \n",
            " 5   housing         41188 non-null  object \n",
            " 6   loan            41188 non-null  object \n",
            " 7   contact         41188 non-null  object \n",
            " 8   month           41188 non-null  object \n",
            " 9   day_of_week     41188 non-null  object \n",
            " 10  duration        41188 non-null  int64  \n",
            " 11  campaign        41188 non-null  int64  \n",
            " 12  pdays           41188 non-null  int64  \n",
            " 13  previous        41188 non-null  int64  \n",
            " 14  poutcome        41188 non-null  object \n",
            " 15  emp.var.rate    41188 non-null  float64\n",
            " 16  cons.price.idx  41188 non-null  float64\n",
            " 17  cons.conf.idx   41188 non-null  float64\n",
            " 18  euribor3m       41188 non-null  float64\n",
            " 19  nr.employed     41188 non-null  float64\n",
            " 20  subscribed      41188 non-null  object \n",
            "dtypes: float64(5), int64(5), object(11)\n",
            "memory usage: 6.6+ MB\n"
          ]
        }
      ],
      "source": [
        "bdf.info()"
      ]
    },
    {
      "cell_type": "code",
      "execution_count": 6,
      "id": "01305001",
      "metadata": {
        "colab": {
          "base_uri": "https://localhost:8080/",
          "height": 270
        },
        "id": "01305001",
        "outputId": "b39d85cd-3f48-4c18-ec96-f073610251eb"
      },
      "outputs": [
        {
          "output_type": "execute_result",
          "data": {
            "text/plain": [
              "   age        job  marital    education  default housing loan    contact  \\\n",
              "0   56  housemaid  married     basic.4y       no      no   no  telephone   \n",
              "1   57   services  married  high.school  unknown      no   no  telephone   \n",
              "2   37   services  married  high.school       no     yes   no  telephone   \n",
              "3   40     admin.  married     basic.6y       no      no   no  telephone   \n",
              "4   56   services  married  high.school       no      no  yes  telephone   \n",
              "\n",
              "  month day_of_week  duration  campaign  pdays  previous     poutcome  \\\n",
              "0   may         mon       261         1    999         0  nonexistent   \n",
              "1   may         mon       149         1    999         0  nonexistent   \n",
              "2   may         mon       226         1    999         0  nonexistent   \n",
              "3   may         mon       151         1    999         0  nonexistent   \n",
              "4   may         mon       307         1    999         0  nonexistent   \n",
              "\n",
              "   emp.var.rate  cons.price.idx  cons.conf.idx  euribor3m  nr.employed  \\\n",
              "0           1.1          93.994          -36.4      4.857       5191.0   \n",
              "1           1.1          93.994          -36.4      4.857       5191.0   \n",
              "2           1.1          93.994          -36.4      4.857       5191.0   \n",
              "3           1.1          93.994          -36.4      4.857       5191.0   \n",
              "4           1.1          93.994          -36.4      4.857       5191.0   \n",
              "\n",
              "  subscribed  \n",
              "0         no  \n",
              "1         no  \n",
              "2         no  \n",
              "3         no  \n",
              "4         no  "
            ],
            "text/html": [
              "\n",
              "  <div id=\"df-0fa702b5-6fb1-4f7b-a2ac-98dc8a3bfa5d\">\n",
              "    <div class=\"colab-df-container\">\n",
              "      <div>\n",
              "<style scoped>\n",
              "    .dataframe tbody tr th:only-of-type {\n",
              "        vertical-align: middle;\n",
              "    }\n",
              "\n",
              "    .dataframe tbody tr th {\n",
              "        vertical-align: top;\n",
              "    }\n",
              "\n",
              "    .dataframe thead th {\n",
              "        text-align: right;\n",
              "    }\n",
              "</style>\n",
              "<table border=\"1\" class=\"dataframe\">\n",
              "  <thead>\n",
              "    <tr style=\"text-align: right;\">\n",
              "      <th></th>\n",
              "      <th>age</th>\n",
              "      <th>job</th>\n",
              "      <th>marital</th>\n",
              "      <th>education</th>\n",
              "      <th>default</th>\n",
              "      <th>housing</th>\n",
              "      <th>loan</th>\n",
              "      <th>contact</th>\n",
              "      <th>month</th>\n",
              "      <th>day_of_week</th>\n",
              "      <th>duration</th>\n",
              "      <th>campaign</th>\n",
              "      <th>pdays</th>\n",
              "      <th>previous</th>\n",
              "      <th>poutcome</th>\n",
              "      <th>emp.var.rate</th>\n",
              "      <th>cons.price.idx</th>\n",
              "      <th>cons.conf.idx</th>\n",
              "      <th>euribor3m</th>\n",
              "      <th>nr.employed</th>\n",
              "      <th>subscribed</th>\n",
              "    </tr>\n",
              "  </thead>\n",
              "  <tbody>\n",
              "    <tr>\n",
              "      <th>0</th>\n",
              "      <td>56</td>\n",
              "      <td>housemaid</td>\n",
              "      <td>married</td>\n",
              "      <td>basic.4y</td>\n",
              "      <td>no</td>\n",
              "      <td>no</td>\n",
              "      <td>no</td>\n",
              "      <td>telephone</td>\n",
              "      <td>may</td>\n",
              "      <td>mon</td>\n",
              "      <td>261</td>\n",
              "      <td>1</td>\n",
              "      <td>999</td>\n",
              "      <td>0</td>\n",
              "      <td>nonexistent</td>\n",
              "      <td>1.1</td>\n",
              "      <td>93.994</td>\n",
              "      <td>-36.4</td>\n",
              "      <td>4.857</td>\n",
              "      <td>5191.0</td>\n",
              "      <td>no</td>\n",
              "    </tr>\n",
              "    <tr>\n",
              "      <th>1</th>\n",
              "      <td>57</td>\n",
              "      <td>services</td>\n",
              "      <td>married</td>\n",
              "      <td>high.school</td>\n",
              "      <td>unknown</td>\n",
              "      <td>no</td>\n",
              "      <td>no</td>\n",
              "      <td>telephone</td>\n",
              "      <td>may</td>\n",
              "      <td>mon</td>\n",
              "      <td>149</td>\n",
              "      <td>1</td>\n",
              "      <td>999</td>\n",
              "      <td>0</td>\n",
              "      <td>nonexistent</td>\n",
              "      <td>1.1</td>\n",
              "      <td>93.994</td>\n",
              "      <td>-36.4</td>\n",
              "      <td>4.857</td>\n",
              "      <td>5191.0</td>\n",
              "      <td>no</td>\n",
              "    </tr>\n",
              "    <tr>\n",
              "      <th>2</th>\n",
              "      <td>37</td>\n",
              "      <td>services</td>\n",
              "      <td>married</td>\n",
              "      <td>high.school</td>\n",
              "      <td>no</td>\n",
              "      <td>yes</td>\n",
              "      <td>no</td>\n",
              "      <td>telephone</td>\n",
              "      <td>may</td>\n",
              "      <td>mon</td>\n",
              "      <td>226</td>\n",
              "      <td>1</td>\n",
              "      <td>999</td>\n",
              "      <td>0</td>\n",
              "      <td>nonexistent</td>\n",
              "      <td>1.1</td>\n",
              "      <td>93.994</td>\n",
              "      <td>-36.4</td>\n",
              "      <td>4.857</td>\n",
              "      <td>5191.0</td>\n",
              "      <td>no</td>\n",
              "    </tr>\n",
              "    <tr>\n",
              "      <th>3</th>\n",
              "      <td>40</td>\n",
              "      <td>admin.</td>\n",
              "      <td>married</td>\n",
              "      <td>basic.6y</td>\n",
              "      <td>no</td>\n",
              "      <td>no</td>\n",
              "      <td>no</td>\n",
              "      <td>telephone</td>\n",
              "      <td>may</td>\n",
              "      <td>mon</td>\n",
              "      <td>151</td>\n",
              "      <td>1</td>\n",
              "      <td>999</td>\n",
              "      <td>0</td>\n",
              "      <td>nonexistent</td>\n",
              "      <td>1.1</td>\n",
              "      <td>93.994</td>\n",
              "      <td>-36.4</td>\n",
              "      <td>4.857</td>\n",
              "      <td>5191.0</td>\n",
              "      <td>no</td>\n",
              "    </tr>\n",
              "    <tr>\n",
              "      <th>4</th>\n",
              "      <td>56</td>\n",
              "      <td>services</td>\n",
              "      <td>married</td>\n",
              "      <td>high.school</td>\n",
              "      <td>no</td>\n",
              "      <td>no</td>\n",
              "      <td>yes</td>\n",
              "      <td>telephone</td>\n",
              "      <td>may</td>\n",
              "      <td>mon</td>\n",
              "      <td>307</td>\n",
              "      <td>1</td>\n",
              "      <td>999</td>\n",
              "      <td>0</td>\n",
              "      <td>nonexistent</td>\n",
              "      <td>1.1</td>\n",
              "      <td>93.994</td>\n",
              "      <td>-36.4</td>\n",
              "      <td>4.857</td>\n",
              "      <td>5191.0</td>\n",
              "      <td>no</td>\n",
              "    </tr>\n",
              "  </tbody>\n",
              "</table>\n",
              "</div>\n",
              "      <button class=\"colab-df-convert\" onclick=\"convertToInteractive('df-0fa702b5-6fb1-4f7b-a2ac-98dc8a3bfa5d')\"\n",
              "              title=\"Convert this dataframe to an interactive table.\"\n",
              "              style=\"display:none;\">\n",
              "        \n",
              "  <svg xmlns=\"http://www.w3.org/2000/svg\" height=\"24px\"viewBox=\"0 0 24 24\"\n",
              "       width=\"24px\">\n",
              "    <path d=\"M0 0h24v24H0V0z\" fill=\"none\"/>\n",
              "    <path d=\"M18.56 5.44l.94 2.06.94-2.06 2.06-.94-2.06-.94-.94-2.06-.94 2.06-2.06.94zm-11 1L8.5 8.5l.94-2.06 2.06-.94-2.06-.94L8.5 2.5l-.94 2.06-2.06.94zm10 10l.94 2.06.94-2.06 2.06-.94-2.06-.94-.94-2.06-.94 2.06-2.06.94z\"/><path d=\"M17.41 7.96l-1.37-1.37c-.4-.4-.92-.59-1.43-.59-.52 0-1.04.2-1.43.59L10.3 9.45l-7.72 7.72c-.78.78-.78 2.05 0 2.83L4 21.41c.39.39.9.59 1.41.59.51 0 1.02-.2 1.41-.59l7.78-7.78 2.81-2.81c.8-.78.8-2.07 0-2.86zM5.41 20L4 18.59l7.72-7.72 1.47 1.35L5.41 20z\"/>\n",
              "  </svg>\n",
              "      </button>\n",
              "      \n",
              "  <style>\n",
              "    .colab-df-container {\n",
              "      display:flex;\n",
              "      flex-wrap:wrap;\n",
              "      gap: 12px;\n",
              "    }\n",
              "\n",
              "    .colab-df-convert {\n",
              "      background-color: #E8F0FE;\n",
              "      border: none;\n",
              "      border-radius: 50%;\n",
              "      cursor: pointer;\n",
              "      display: none;\n",
              "      fill: #1967D2;\n",
              "      height: 32px;\n",
              "      padding: 0 0 0 0;\n",
              "      width: 32px;\n",
              "    }\n",
              "\n",
              "    .colab-df-convert:hover {\n",
              "      background-color: #E2EBFA;\n",
              "      box-shadow: 0px 1px 2px rgba(60, 64, 67, 0.3), 0px 1px 3px 1px rgba(60, 64, 67, 0.15);\n",
              "      fill: #174EA6;\n",
              "    }\n",
              "\n",
              "    [theme=dark] .colab-df-convert {\n",
              "      background-color: #3B4455;\n",
              "      fill: #D2E3FC;\n",
              "    }\n",
              "\n",
              "    [theme=dark] .colab-df-convert:hover {\n",
              "      background-color: #434B5C;\n",
              "      box-shadow: 0px 1px 3px 1px rgba(0, 0, 0, 0.15);\n",
              "      filter: drop-shadow(0px 1px 2px rgba(0, 0, 0, 0.3));\n",
              "      fill: #FFFFFF;\n",
              "    }\n",
              "  </style>\n",
              "\n",
              "      <script>\n",
              "        const buttonEl =\n",
              "          document.querySelector('#df-0fa702b5-6fb1-4f7b-a2ac-98dc8a3bfa5d button.colab-df-convert');\n",
              "        buttonEl.style.display =\n",
              "          google.colab.kernel.accessAllowed ? 'block' : 'none';\n",
              "\n",
              "        async function convertToInteractive(key) {\n",
              "          const element = document.querySelector('#df-0fa702b5-6fb1-4f7b-a2ac-98dc8a3bfa5d');\n",
              "          const dataTable =\n",
              "            await google.colab.kernel.invokeFunction('convertToInteractive',\n",
              "                                                     [key], {});\n",
              "          if (!dataTable) return;\n",
              "\n",
              "          const docLinkHtml = 'Like what you see? Visit the ' +\n",
              "            '<a target=\"_blank\" href=https://colab.research.google.com/notebooks/data_table.ipynb>data table notebook</a>'\n",
              "            + ' to learn more about interactive tables.';\n",
              "          element.innerHTML = '';\n",
              "          dataTable['output_type'] = 'display_data';\n",
              "          await google.colab.output.renderOutput(dataTable, element);\n",
              "          const docLink = document.createElement('div');\n",
              "          docLink.innerHTML = docLinkHtml;\n",
              "          element.appendChild(docLink);\n",
              "        }\n",
              "      </script>\n",
              "    </div>\n",
              "  </div>\n",
              "  "
            ]
          },
          "metadata": {},
          "execution_count": 6
        }
      ],
      "source": [
        "bdf.head()"
      ]
    },
    {
      "cell_type": "code",
      "execution_count": 7,
      "id": "705610c3",
      "metadata": {
        "colab": {
          "base_uri": "https://localhost:8080/",
          "height": 300
        },
        "id": "705610c3",
        "outputId": "779bcc6b-72fa-4897-8cb3-1145063b5c3e"
      },
      "outputs": [
        {
          "output_type": "execute_result",
          "data": {
            "text/plain": [
              "               age      duration      campaign         pdays      previous  \\\n",
              "count  41188.00000  41188.000000  41188.000000  41188.000000  41188.000000   \n",
              "mean      40.02406    258.285010      2.567593    962.475454      0.172963   \n",
              "std       10.42125    259.279249      2.770014    186.910907      0.494901   \n",
              "min       17.00000      0.000000      1.000000      0.000000      0.000000   \n",
              "25%       32.00000    102.000000      1.000000    999.000000      0.000000   \n",
              "50%       38.00000    180.000000      2.000000    999.000000      0.000000   \n",
              "75%       47.00000    319.000000      3.000000    999.000000      0.000000   \n",
              "max       98.00000   4918.000000     56.000000    999.000000      7.000000   \n",
              "\n",
              "       emp.var.rate  cons.price.idx  cons.conf.idx     euribor3m   nr.employed  \n",
              "count  41188.000000    41188.000000   41188.000000  41188.000000  41188.000000  \n",
              "mean       0.081886       93.575664     -40.502600      3.621291   5167.035911  \n",
              "std        1.570960        0.578840       4.628198      1.734447     72.251528  \n",
              "min       -3.400000       92.201000     -50.800000      0.634000   4963.600000  \n",
              "25%       -1.800000       93.075000     -42.700000      1.344000   5099.100000  \n",
              "50%        1.100000       93.749000     -41.800000      4.857000   5191.000000  \n",
              "75%        1.400000       93.994000     -36.400000      4.961000   5228.100000  \n",
              "max        1.400000       94.767000     -26.900000      5.045000   5228.100000  "
            ],
            "text/html": [
              "\n",
              "  <div id=\"df-2c72f011-1d51-4b35-aca9-65c5d2befce0\">\n",
              "    <div class=\"colab-df-container\">\n",
              "      <div>\n",
              "<style scoped>\n",
              "    .dataframe tbody tr th:only-of-type {\n",
              "        vertical-align: middle;\n",
              "    }\n",
              "\n",
              "    .dataframe tbody tr th {\n",
              "        vertical-align: top;\n",
              "    }\n",
              "\n",
              "    .dataframe thead th {\n",
              "        text-align: right;\n",
              "    }\n",
              "</style>\n",
              "<table border=\"1\" class=\"dataframe\">\n",
              "  <thead>\n",
              "    <tr style=\"text-align: right;\">\n",
              "      <th></th>\n",
              "      <th>age</th>\n",
              "      <th>duration</th>\n",
              "      <th>campaign</th>\n",
              "      <th>pdays</th>\n",
              "      <th>previous</th>\n",
              "      <th>emp.var.rate</th>\n",
              "      <th>cons.price.idx</th>\n",
              "      <th>cons.conf.idx</th>\n",
              "      <th>euribor3m</th>\n",
              "      <th>nr.employed</th>\n",
              "    </tr>\n",
              "  </thead>\n",
              "  <tbody>\n",
              "    <tr>\n",
              "      <th>count</th>\n",
              "      <td>41188.00000</td>\n",
              "      <td>41188.000000</td>\n",
              "      <td>41188.000000</td>\n",
              "      <td>41188.000000</td>\n",
              "      <td>41188.000000</td>\n",
              "      <td>41188.000000</td>\n",
              "      <td>41188.000000</td>\n",
              "      <td>41188.000000</td>\n",
              "      <td>41188.000000</td>\n",
              "      <td>41188.000000</td>\n",
              "    </tr>\n",
              "    <tr>\n",
              "      <th>mean</th>\n",
              "      <td>40.02406</td>\n",
              "      <td>258.285010</td>\n",
              "      <td>2.567593</td>\n",
              "      <td>962.475454</td>\n",
              "      <td>0.172963</td>\n",
              "      <td>0.081886</td>\n",
              "      <td>93.575664</td>\n",
              "      <td>-40.502600</td>\n",
              "      <td>3.621291</td>\n",
              "      <td>5167.035911</td>\n",
              "    </tr>\n",
              "    <tr>\n",
              "      <th>std</th>\n",
              "      <td>10.42125</td>\n",
              "      <td>259.279249</td>\n",
              "      <td>2.770014</td>\n",
              "      <td>186.910907</td>\n",
              "      <td>0.494901</td>\n",
              "      <td>1.570960</td>\n",
              "      <td>0.578840</td>\n",
              "      <td>4.628198</td>\n",
              "      <td>1.734447</td>\n",
              "      <td>72.251528</td>\n",
              "    </tr>\n",
              "    <tr>\n",
              "      <th>min</th>\n",
              "      <td>17.00000</td>\n",
              "      <td>0.000000</td>\n",
              "      <td>1.000000</td>\n",
              "      <td>0.000000</td>\n",
              "      <td>0.000000</td>\n",
              "      <td>-3.400000</td>\n",
              "      <td>92.201000</td>\n",
              "      <td>-50.800000</td>\n",
              "      <td>0.634000</td>\n",
              "      <td>4963.600000</td>\n",
              "    </tr>\n",
              "    <tr>\n",
              "      <th>25%</th>\n",
              "      <td>32.00000</td>\n",
              "      <td>102.000000</td>\n",
              "      <td>1.000000</td>\n",
              "      <td>999.000000</td>\n",
              "      <td>0.000000</td>\n",
              "      <td>-1.800000</td>\n",
              "      <td>93.075000</td>\n",
              "      <td>-42.700000</td>\n",
              "      <td>1.344000</td>\n",
              "      <td>5099.100000</td>\n",
              "    </tr>\n",
              "    <tr>\n",
              "      <th>50%</th>\n",
              "      <td>38.00000</td>\n",
              "      <td>180.000000</td>\n",
              "      <td>2.000000</td>\n",
              "      <td>999.000000</td>\n",
              "      <td>0.000000</td>\n",
              "      <td>1.100000</td>\n",
              "      <td>93.749000</td>\n",
              "      <td>-41.800000</td>\n",
              "      <td>4.857000</td>\n",
              "      <td>5191.000000</td>\n",
              "    </tr>\n",
              "    <tr>\n",
              "      <th>75%</th>\n",
              "      <td>47.00000</td>\n",
              "      <td>319.000000</td>\n",
              "      <td>3.000000</td>\n",
              "      <td>999.000000</td>\n",
              "      <td>0.000000</td>\n",
              "      <td>1.400000</td>\n",
              "      <td>93.994000</td>\n",
              "      <td>-36.400000</td>\n",
              "      <td>4.961000</td>\n",
              "      <td>5228.100000</td>\n",
              "    </tr>\n",
              "    <tr>\n",
              "      <th>max</th>\n",
              "      <td>98.00000</td>\n",
              "      <td>4918.000000</td>\n",
              "      <td>56.000000</td>\n",
              "      <td>999.000000</td>\n",
              "      <td>7.000000</td>\n",
              "      <td>1.400000</td>\n",
              "      <td>94.767000</td>\n",
              "      <td>-26.900000</td>\n",
              "      <td>5.045000</td>\n",
              "      <td>5228.100000</td>\n",
              "    </tr>\n",
              "  </tbody>\n",
              "</table>\n",
              "</div>\n",
              "      <button class=\"colab-df-convert\" onclick=\"convertToInteractive('df-2c72f011-1d51-4b35-aca9-65c5d2befce0')\"\n",
              "              title=\"Convert this dataframe to an interactive table.\"\n",
              "              style=\"display:none;\">\n",
              "        \n",
              "  <svg xmlns=\"http://www.w3.org/2000/svg\" height=\"24px\"viewBox=\"0 0 24 24\"\n",
              "       width=\"24px\">\n",
              "    <path d=\"M0 0h24v24H0V0z\" fill=\"none\"/>\n",
              "    <path d=\"M18.56 5.44l.94 2.06.94-2.06 2.06-.94-2.06-.94-.94-2.06-.94 2.06-2.06.94zm-11 1L8.5 8.5l.94-2.06 2.06-.94-2.06-.94L8.5 2.5l-.94 2.06-2.06.94zm10 10l.94 2.06.94-2.06 2.06-.94-2.06-.94-.94-2.06-.94 2.06-2.06.94z\"/><path d=\"M17.41 7.96l-1.37-1.37c-.4-.4-.92-.59-1.43-.59-.52 0-1.04.2-1.43.59L10.3 9.45l-7.72 7.72c-.78.78-.78 2.05 0 2.83L4 21.41c.39.39.9.59 1.41.59.51 0 1.02-.2 1.41-.59l7.78-7.78 2.81-2.81c.8-.78.8-2.07 0-2.86zM5.41 20L4 18.59l7.72-7.72 1.47 1.35L5.41 20z\"/>\n",
              "  </svg>\n",
              "      </button>\n",
              "      \n",
              "  <style>\n",
              "    .colab-df-container {\n",
              "      display:flex;\n",
              "      flex-wrap:wrap;\n",
              "      gap: 12px;\n",
              "    }\n",
              "\n",
              "    .colab-df-convert {\n",
              "      background-color: #E8F0FE;\n",
              "      border: none;\n",
              "      border-radius: 50%;\n",
              "      cursor: pointer;\n",
              "      display: none;\n",
              "      fill: #1967D2;\n",
              "      height: 32px;\n",
              "      padding: 0 0 0 0;\n",
              "      width: 32px;\n",
              "    }\n",
              "\n",
              "    .colab-df-convert:hover {\n",
              "      background-color: #E2EBFA;\n",
              "      box-shadow: 0px 1px 2px rgba(60, 64, 67, 0.3), 0px 1px 3px 1px rgba(60, 64, 67, 0.15);\n",
              "      fill: #174EA6;\n",
              "    }\n",
              "\n",
              "    [theme=dark] .colab-df-convert {\n",
              "      background-color: #3B4455;\n",
              "      fill: #D2E3FC;\n",
              "    }\n",
              "\n",
              "    [theme=dark] .colab-df-convert:hover {\n",
              "      background-color: #434B5C;\n",
              "      box-shadow: 0px 1px 3px 1px rgba(0, 0, 0, 0.15);\n",
              "      filter: drop-shadow(0px 1px 2px rgba(0, 0, 0, 0.3));\n",
              "      fill: #FFFFFF;\n",
              "    }\n",
              "  </style>\n",
              "\n",
              "      <script>\n",
              "        const buttonEl =\n",
              "          document.querySelector('#df-2c72f011-1d51-4b35-aca9-65c5d2befce0 button.colab-df-convert');\n",
              "        buttonEl.style.display =\n",
              "          google.colab.kernel.accessAllowed ? 'block' : 'none';\n",
              "\n",
              "        async function convertToInteractive(key) {\n",
              "          const element = document.querySelector('#df-2c72f011-1d51-4b35-aca9-65c5d2befce0');\n",
              "          const dataTable =\n",
              "            await google.colab.kernel.invokeFunction('convertToInteractive',\n",
              "                                                     [key], {});\n",
              "          if (!dataTable) return;\n",
              "\n",
              "          const docLinkHtml = 'Like what you see? Visit the ' +\n",
              "            '<a target=\"_blank\" href=https://colab.research.google.com/notebooks/data_table.ipynb>data table notebook</a>'\n",
              "            + ' to learn more about interactive tables.';\n",
              "          element.innerHTML = '';\n",
              "          dataTable['output_type'] = 'display_data';\n",
              "          await google.colab.output.renderOutput(dataTable, element);\n",
              "          const docLink = document.createElement('div');\n",
              "          docLink.innerHTML = docLinkHtml;\n",
              "          element.appendChild(docLink);\n",
              "        }\n",
              "      </script>\n",
              "    </div>\n",
              "  </div>\n",
              "  "
            ]
          },
          "metadata": {},
          "execution_count": 7
        }
      ],
      "source": [
        "bdf.describe()"
      ]
    },
    {
      "cell_type": "markdown",
      "id": "cc8a12f5",
      "metadata": {
        "id": "cc8a12f5"
      },
      "source": [
        "Number of Row and Columns in our data set "
      ]
    },
    {
      "cell_type": "code",
      "execution_count": 8,
      "id": "0f0f964c",
      "metadata": {
        "colab": {
          "base_uri": "https://localhost:8080/",
          "height": 0
        },
        "id": "0f0f964c",
        "outputId": "bd0c825e-44e1-4dd4-a6f6-9139986bb4ca"
      },
      "outputs": [
        {
          "output_type": "execute_result",
          "data": {
            "text/plain": [
              "(41188, 21)"
            ]
          },
          "metadata": {},
          "execution_count": 8
        }
      ],
      "source": [
        "bdf.shape"
      ]
    },
    {
      "cell_type": "markdown",
      "id": "de7a637e",
      "metadata": {
        "id": "de7a637e"
      },
      "source": [
        "Here below Checking for Missing or Na values in data set "
      ]
    },
    {
      "cell_type": "code",
      "execution_count": 9,
      "id": "ed0e8456",
      "metadata": {
        "colab": {
          "base_uri": "https://localhost:8080/",
          "height": 0
        },
        "id": "ed0e8456",
        "outputId": "f4979b56-bccb-4147-b7d9-2006f423eb9a"
      },
      "outputs": [
        {
          "output_type": "execute_result",
          "data": {
            "text/plain": [
              "age               0\n",
              "job               0\n",
              "marital           0\n",
              "education         0\n",
              "default           0\n",
              "housing           0\n",
              "loan              0\n",
              "contact           0\n",
              "month             0\n",
              "day_of_week       0\n",
              "duration          0\n",
              "campaign          0\n",
              "pdays             0\n",
              "previous          0\n",
              "poutcome          0\n",
              "emp.var.rate      0\n",
              "cons.price.idx    0\n",
              "cons.conf.idx     0\n",
              "euribor3m         0\n",
              "nr.employed       0\n",
              "subscribed        0\n",
              "dtype: int64"
            ]
          },
          "metadata": {},
          "execution_count": 9
        }
      ],
      "source": [
        "bdf.isnull().sum()"
      ]
    },
    {
      "cell_type": "markdown",
      "id": "e198cd84",
      "metadata": {
        "id": "e198cd84"
      },
      "source": [
        "Here lets go throught he data set and observe how many categorical and numrical variables are present in tha data set so it can used for fur the data preprocessing"
      ]
    },
    {
      "cell_type": "code",
      "execution_count": 10,
      "id": "c0ceb822",
      "metadata": {
        "colab": {
          "base_uri": "https://localhost:8080/",
          "height": 0
        },
        "id": "c0ceb822",
        "outputId": "8514793d-fd29-46a7-9e99-a4515e690599"
      },
      "outputs": [
        {
          "output_type": "stream",
          "name": "stdout",
          "text": [
            "There are 11 categorical variables\n",
            "There are 10 numerical variables\n"
          ]
        }
      ],
      "source": [
        "# categorical variables\n",
        "cat_varb = [varb for varb in bdf.columns if varb != 'y' and bdf[varb].dtype=='O']\n",
        "\n",
        "# numerical variables\n",
        "num_varb = [varb for varb in bdf.columns if varb != 'y' and varb not in cat_varb]\n",
        "\n",
        "print('There are {} categorical variables'.format(len(cat_varb)))\n",
        "print('There are {} numerical variables'.format(len(num_varb)))"
      ]
    },
    {
      "cell_type": "markdown",
      "id": "53d69760",
      "metadata": {
        "id": "53d69760"
      },
      "source": [
        "So in those all the categorical variables  we must know how many number of categories are present in the each categorical attributes"
      ]
    },
    {
      "cell_type": "code",
      "execution_count": 11,
      "id": "5a5105c5",
      "metadata": {
        "colab": {
          "base_uri": "https://localhost:8080/",
          "height": 0
        },
        "id": "5a5105c5",
        "outputId": "619d8620-5e9b-4ff8-858e-6e7f3873742e"
      },
      "outputs": [
        {
          "output_type": "execute_result",
          "data": {
            "text/plain": [
              "admin.           10422\n",
              "blue-collar       9254\n",
              "technician        6743\n",
              "services          3969\n",
              "management        2924\n",
              "retired           1720\n",
              "entrepreneur      1456\n",
              "self-employed     1421\n",
              "housemaid         1060\n",
              "unemployed        1014\n",
              "student            875\n",
              "unknown            330\n",
              "Name: job, dtype: int64"
            ]
          },
          "metadata": {},
          "execution_count": 11
        }
      ],
      "source": [
        "bdf[\"job\"].value_counts()"
      ]
    },
    {
      "cell_type": "code",
      "execution_count": 12,
      "id": "c3464c6f",
      "metadata": {
        "colab": {
          "base_uri": "https://localhost:8080/",
          "height": 0
        },
        "id": "c3464c6f",
        "outputId": "6134493b-ea1d-4b78-e818-9b039bf0fe8b"
      },
      "outputs": [
        {
          "output_type": "execute_result",
          "data": {
            "text/plain": [
              "married     24928\n",
              "single      11568\n",
              "divorced     4612\n",
              "unknown        80\n",
              "Name: marital, dtype: int64"
            ]
          },
          "metadata": {},
          "execution_count": 12
        }
      ],
      "source": [
        "bdf[\"marital\"].value_counts()"
      ]
    },
    {
      "cell_type": "code",
      "execution_count": 13,
      "id": "4dcf1da1",
      "metadata": {
        "colab": {
          "base_uri": "https://localhost:8080/",
          "height": 0
        },
        "id": "4dcf1da1",
        "outputId": "57a574c6-867b-4498-d5e0-23272addd446"
      },
      "outputs": [
        {
          "output_type": "execute_result",
          "data": {
            "text/plain": [
              "university.degree      12168\n",
              "high.school             9515\n",
              "basic.9y                6045\n",
              "professional.course     5243\n",
              "basic.4y                4176\n",
              "basic.6y                2292\n",
              "unknown                 1731\n",
              "illiterate                18\n",
              "Name: education, dtype: int64"
            ]
          },
          "metadata": {},
          "execution_count": 13
        }
      ],
      "source": [
        "bdf[\"education\"].value_counts()"
      ]
    },
    {
      "cell_type": "code",
      "execution_count": 14,
      "id": "a5f832d8",
      "metadata": {
        "colab": {
          "base_uri": "https://localhost:8080/",
          "height": 0
        },
        "id": "a5f832d8",
        "outputId": "8c73562c-dbdc-495d-d4ec-d402fd04f737"
      },
      "outputs": [
        {
          "output_type": "execute_result",
          "data": {
            "text/plain": [
              "yes        21576\n",
              "no         18622\n",
              "unknown      990\n",
              "Name: housing, dtype: int64"
            ]
          },
          "metadata": {},
          "execution_count": 14
        }
      ],
      "source": [
        "bdf[\"housing\"].value_counts()"
      ]
    },
    {
      "cell_type": "code",
      "execution_count": 15,
      "id": "86e5059f",
      "metadata": {
        "colab": {
          "base_uri": "https://localhost:8080/",
          "height": 0
        },
        "id": "86e5059f",
        "outputId": "48b71296-db4b-4668-a56b-0957bff468d5"
      },
      "outputs": [
        {
          "output_type": "execute_result",
          "data": {
            "text/plain": [
              "no         33950\n",
              "yes         6248\n",
              "unknown      990\n",
              "Name: loan, dtype: int64"
            ]
          },
          "metadata": {},
          "execution_count": 15
        }
      ],
      "source": [
        "bdf[\"loan\"].value_counts()"
      ]
    },
    {
      "cell_type": "code",
      "execution_count": 16,
      "id": "06377569",
      "metadata": {
        "colab": {
          "base_uri": "https://localhost:8080/",
          "height": 0
        },
        "id": "06377569",
        "outputId": "778602c5-d0e8-425e-f183-6e57f754f830"
      },
      "outputs": [
        {
          "output_type": "execute_result",
          "data": {
            "text/plain": [
              "cellular     26144\n",
              "telephone    15044\n",
              "Name: contact, dtype: int64"
            ]
          },
          "metadata": {},
          "execution_count": 16
        }
      ],
      "source": [
        "bdf[\"contact\"].value_counts()"
      ]
    },
    {
      "cell_type": "code",
      "execution_count": 17,
      "id": "06290728",
      "metadata": {
        "colab": {
          "base_uri": "https://localhost:8080/",
          "height": 0
        },
        "id": "06290728",
        "outputId": "e88df622-eb1f-48c3-d746-d87fe2c05fa1"
      },
      "outputs": [
        {
          "output_type": "execute_result",
          "data": {
            "text/plain": [
              "may    13769\n",
              "jul     7174\n",
              "aug     6178\n",
              "jun     5318\n",
              "nov     4101\n",
              "apr     2632\n",
              "oct      718\n",
              "sep      570\n",
              "mar      546\n",
              "dec      182\n",
              "Name: month, dtype: int64"
            ]
          },
          "metadata": {},
          "execution_count": 17
        }
      ],
      "source": [
        "bdf[\"month\"].value_counts()"
      ]
    },
    {
      "cell_type": "code",
      "execution_count": 18,
      "id": "7be7f203",
      "metadata": {
        "colab": {
          "base_uri": "https://localhost:8080/",
          "height": 0
        },
        "id": "7be7f203",
        "outputId": "06a0c1e7-f604-4283-a1a7-e73d13b72b8d"
      },
      "outputs": [
        {
          "output_type": "execute_result",
          "data": {
            "text/plain": [
              "nonexistent    35563\n",
              "failure         4252\n",
              "success         1373\n",
              "Name: poutcome, dtype: int64"
            ]
          },
          "metadata": {},
          "execution_count": 18
        }
      ],
      "source": [
        "bdf[\"poutcome\"].value_counts()"
      ]
    },
    {
      "cell_type": "code",
      "execution_count": 19,
      "id": "cdebe915",
      "metadata": {
        "id": "cdebe915"
      },
      "outputs": [],
      "source": [
        "#We will use a binary target for computation friendly instead of categorical\n",
        "bdf['y_binary'] = bdf['subscribed'].map({'no':0, 'yes':1}).astype(int)"
      ]
    },
    {
      "cell_type": "markdown",
      "id": "01402425",
      "metadata": {
        "id": "01402425"
      },
      "source": [
        "# Explotary Data analysis of Numerical variables"
      ]
    },
    {
      "cell_type": "code",
      "execution_count": 20,
      "id": "701ddf27",
      "metadata": {
        "id": "701ddf27"
      },
      "outputs": [],
      "source": [
        "def plot_num_features(bdf, variable):\n",
        "    \"\"\" Box plot and Histogram functions for visualize continuous variables\"\"\"\n",
        "    plt.figure(figsize=(16, 4))\n",
        "    \n",
        "    plt.subplot(1,3,1)\n",
        "    bdf[variable].hist(bins=30)\n",
        "    plt.title('Histogram')\n",
        "    plt.xlabel(variable)\n",
        "    \n",
        "    plt.subplot(1,3,2)\n",
        "    sns.distplot(bdf[variable])\n",
        "    plt.title('Dist plot')\n",
        "    plt.xlabel(variable)\n",
        "    \n",
        "    plt.subplot(1,3,3)\n",
        "    sns.boxplot(y=bdf[variable])\n",
        "    plt.title('Boxplot')\n",
        "    plt.xlabel(variable)\n",
        "    \n",
        "    plt.show()"
      ]
    },
    {
      "cell_type": "code",
      "execution_count": 21,
      "id": "e3817c66",
      "metadata": {
        "colab": {
          "base_uri": "https://localhost:8080/",
          "height": 1282
        },
        "id": "e3817c66",
        "outputId": "3a10389c-7768-41d4-a89a-3b50ab8605a1"
      },
      "outputs": [
        {
          "output_type": "display_data",
          "data": {
            "text/plain": [
              "<Figure size 1152x288 with 3 Axes>"
            ],
            "image/png": "[encoded data removed]"
          },
          "metadata": {
            "needs_background": "light"
          }
        },
        {
          "output_type": "display_data",
          "data": {
            "text/plain": [
              "<Figure size 1152x288 with 3 Axes>"
            ],
            "image/png": "[encoded data removed]"
          },
          "metadata": {
            "needs_background": "light"
          }
        },
        {
          "output_type": "display_data",
          "data": {
            "text/plain": [
              "<Figure size 1152x288 with 3 Axes>"
            ],
            "image/png": "[encoded data removed]"
          },
          "metadata": {
            "needs_background": "light"
          }
        },
        {
          "output_type": "display_data",
          "data": {
            "text/plain": [
              "<Figure size 1152x288 with 3 Axes>"
            ],
            "image/png": "[encoded data removed]"
          },
          "metadata": {
            "needs_background": "light"
          }
        },
        {
          "output_type": "display_data",
          "data": {
            "text/plain": [
              "<Figure size 1152x288 with 3 Axes>"
            ],
            "image/png": "[encoded data removed]"
          },
          "metadata": {
            "needs_background": "light"
          }
        },
        {
          "output_type": "display_data",
          "data": {
            "text/plain": [
              "<Figure size 1152x288 with 3 Axes>"
            ],
            "image/png": "[encoded data removed]"
          },
          "metadata": {
            "needs_background": "light"
          }
        },
        {
          "output_type": "display_data",
          "data": {
            "text/plain": [
              "<Figure size 1152x288 with 3 Axes>"
            ],
            "image/png": "[encoded data removed]"
          },
          "metadata": {
            "needs_background": "light"
          }
        },
        {
          "output_type": "display_data",
          "data": {
            "text/plain": [
              "<Figure size 1152x288 with 3 Axes>"
            ],
            "image/png": "[encoded data removed]"
          },
          "metadata": {
            "needs_background": "light"
          }
        },
        {
          "output_type": "display_data",
          "data": {
            "text/plain": [
              "<Figure size 1152x288 with 3 Axes>"
            ],
            "image/png": "[encoded data removed]"
          },
          "metadata": {
            "needs_background": "light"
          }
        },
        {
          "output_type": "display_data",
          "data": {
            "text/plain": [
              "<Figure size 1152x288 with 3 Axes>"
            ],
            "image/png": "[encoded data removed]"
          },
          "metadata": {
            "needs_background": "light"
          }
        }
      ],
      "source": [
        "s = [plot_num_features(bdf,i) for i in bdf[num_varb]]"
      ]
    },
    {
      "cell_type": "markdown",
      "id": "0ef8724a",
      "metadata": {
        "id": "0ef8724a"
      },
      "source": [
        "So starting with age column int th data we have age in different ranges for thr ease of analysis , we need to bin them in to categories \n",
        "\n",
        "Lets take the look at the their distrubution of data becausee which can help us understand which age range customers are investion highly depositing \n",
        "\n",
        "so that makerting can be targetted over the certain age bracket customer to make the invest on term deposit"
      ]
    },
    {
      "cell_type": "code",
      "execution_count": 22,
      "id": "9336c42e",
      "metadata": {
        "colab": {
          "base_uri": "https://localhost:8080/",
          "height": 351
        },
        "id": "9336c42e",
        "outputId": "61c99650-53b0-4e42-e064-89b5f84bfb79"
      },
      "outputs": [
        {
          "output_type": "display_data",
          "data": {
            "text/plain": [
              "<Figure size 792x360 with 1 Axes>"
            ],
            "image/png": "[encoded data removed]"
          },
          "metadata": {
            "needs_background": "light"
          }
        }
      ],
      "source": [
        "plt.figure(figsize=(11,5))\n",
        "sns.kdeplot(data=bdf, x='age', hue='subscribed')\n",
        "plt.title('CT Age distribution', fontsize=14)\n",
        "plt.legend(title='Term Deposit', labels=['yes', 'no']);"
      ]
    },
    {
      "cell_type": "code",
      "execution_count": 23,
      "id": "f3535352",
      "metadata": {
        "id": "f3535352"
      },
      "outputs": [],
      "source": [
        "# let's divide age into the bins as bagged category\n",
        "nu_bins = [17, 30, 40, 50, 60, 100]\n",
        "# bins labels\n",
        "b_labels = ['17-30', '31-40', '41-50', '51-60', '>60']\n",
        "# Bucketed\n",
        "bdf['age_grp'] = pd.cut(bdf['age'], bins=nu_bins, labels=b_labels, include_lowest=True)"
      ]
    },
    {
      "cell_type": "code",
      "execution_count": 24,
      "id": "6bf158fd",
      "metadata": {
        "colab": {
          "base_uri": "https://localhost:8080/",
          "height": 0
        },
        "id": "6bf158fd",
        "outputId": "89b08605-248f-4e00-afc4-b1460352d1cc"
      },
      "outputs": [
        {
          "output_type": "execute_result",
          "data": {
            "text/plain": [
              "31-40    16385\n",
              "41-50    10240\n",
              "17-30     7383\n",
              "51-60     6270\n",
              ">60        910\n",
              "Name: age_grp, dtype: int64"
            ]
          },
          "metadata": {},
          "execution_count": 24
        }
      ],
      "source": [
        "bdf.age_grp.value_counts() # here is our binned age groupcategory of the customers"
      ]
    },
    {
      "cell_type": "code",
      "execution_count": 25,
      "id": "4a61f4b5",
      "metadata": {
        "id": "4a61f4b5"
      },
      "outputs": [],
      "source": [
        "# dropping age column , because we have binned categorical colum which make ease of analysis\n",
        "bdf.drop(['age'], axis=1, inplace=True)"
      ]
    },
    {
      "cell_type": "markdown",
      "id": "a9740a25",
      "metadata": {
        "id": "a9740a25"
      },
      "source": [
        "# E D A on  Categorical Attributes to Drive Insights "
      ]
    },
    {
      "cell_type": "markdown",
      "id": "91ce4772",
      "metadata": {
        "id": "91ce4772"
      },
      "source": [
        "Since the data is a classificated based data , we need make sure that data has been balaced , traing the model with biased data will lead to bias in prediction , hence lets check the class imbalece of the data and recitfy before the data used for training the model "
      ]
    },
    {
      "cell_type": "code",
      "execution_count": 26,
      "id": "9773956a",
      "metadata": {
        "colab": {
          "base_uri": "https://localhost:8080/",
          "height": 0
        },
        "id": "9773956a",
        "outputId": "e7d9f21a-81a1-4191-c34e-1da0350e0cf3"
      },
      "outputs": [
        {
          "output_type": "execute_result",
          "data": {
            "text/plain": [
              "41188"
            ]
          },
          "metadata": {},
          "execution_count": 26
        }
      ],
      "source": [
        "bdf[\"subscribed\"].count()"
      ]
    },
    {
      "cell_type": "code",
      "execution_count": 27,
      "id": "f0711fe5",
      "metadata": {
        "colab": {
          "base_uri": "https://localhost:8080/",
          "height": 472
        },
        "id": "f0711fe5",
        "outputId": "dd89b9c1-95e9-4a1b-f767-77a38ea3b85c"
      },
      "outputs": [
        {
          "output_type": "display_data",
          "data": {
            "text/plain": [
              "<Figure size 720x504 with 1 Axes>"
            ],
            "image/png": "[encoded data removed]"
          },
          "metadata": {
            "needs_background": "light"
          }
        }
      ],
      "source": [
        "plt.figure(figsize=(10,7))\n",
        "sns.countplot(x=\"subscribed\", data=bdf)\n",
        "percentage_y = bdf['subscribed'].agg('value_counts', normalize=True) * 100\n",
        "plt.title(\"% Of Cust Subscribed\",fontsize=20)\n",
        "plt.tick_params(axis='x', labelsize=20)\n",
        "plt.text(0, 18000, \"{:.2g}%\".format(percentage_y[0]),  ha='center', va='bottom', size=25, color='w')\n",
        "plt.text(1, 1000, \"{:.2g}%\".format(percentage_y[1]),  ha='center', va='bottom', size=25, color='w')\n",
        "plt.show()"
      ]
    },
    {
      "cell_type": "code",
      "execution_count": 28,
      "id": "93252854",
      "metadata": {
        "colab": {
          "base_uri": "https://localhost:8080/",
          "height": 0
        },
        "id": "93252854",
        "outputId": "23621e84-aad3-4d08-8b6d-1351e6af7f21"
      },
      "outputs": [
        {
          "output_type": "execute_result",
          "data": {
            "text/plain": [
              "no     0.887346\n",
              "yes    0.112654\n",
              "Name: subscribed, dtype: float64"
            ]
          },
          "metadata": {},
          "execution_count": 28
        }
      ],
      "source": [
        "(bdf['subscribed'].value_counts())/len(bdf)"
      ]
    },
    {
      "cell_type": "markdown",
      "id": "1ad33e1d",
      "metadata": {
        "id": "1ad33e1d"
      },
      "source": [
        "As we can interpret staticitically from the above data chart it is 88.7% of Non SUbscribers,describes that our subscription for term deposit  is not made by many of the customers ,but we can also interpet the the we have data which has large number No of Non subscribers and less number of subscribers, model trained withs such kind if data will give biased predicitions"
      ]
    },
    {
      "cell_type": "markdown",
      "id": "dd7b9b97",
      "metadata": {
        "id": "dd7b9b97"
      },
      "source": [
        "This Below plot on job wise distribution give us an idea about customer in which state of job are highly depositing on bank "
      ]
    },
    {
      "cell_type": "code",
      "execution_count": 29,
      "id": "928a72db",
      "metadata": {
        "colab": {
          "base_uri": "https://localhost:8080/",
          "height": 607
        },
        "id": "928a72db",
        "outputId": "d2473455-cc33-4d11-c42e-554871e5a0d7"
      },
      "outputs": [
        {
          "output_type": "execute_result",
          "data": {
            "text/plain": [
              "Text(0.5, 1.0, 'Distribution of Subscribers Job Wise')"
            ]
          },
          "metadata": {},
          "execution_count": 29
        },
        {
          "output_type": "display_data",
          "data": {
            "text/plain": [
              "<Figure size 2160x864 with 1 Axes>"
            ],
            "image/png": "[encoded data removed]"
          },
          "metadata": {
            "needs_background": "light"
          }
        }
      ],
      "source": [
        "plt.figure(figsize = (30,12))\n",
        "sns.countplot(x = 'job',data = bdf)\n",
        "plt.xlabel(\"job\", fontsize=15)\n",
        "plt.ylabel('Count', fontsize=15)\n",
        "plt.title('Distribution of Subscribers Job Wise', fontsize=20)"
      ]
    },
    {
      "cell_type": "markdown",
      "id": "2d185399",
      "metadata": {
        "id": "2d185399"
      },
      "source": [
        "Below plot helps in observing Customers depositing based on the maritial status which helps in targeted marketing on certain customers"
      ]
    },
    {
      "cell_type": "code",
      "execution_count": 30,
      "id": "c1dce3ed",
      "metadata": {
        "colab": {
          "base_uri": "https://localhost:8080/",
          "height": 374
        },
        "id": "c1dce3ed",
        "outputId": "813460db-e7fc-4b69-e958-bdfad220821e"
      },
      "outputs": [
        {
          "output_type": "execute_result",
          "data": {
            "text/plain": [
              "Text(0.5, 1.0, 'Marital Distribution')"
            ]
          },
          "metadata": {},
          "execution_count": 30
        },
        {
          "output_type": "display_data",
          "data": {
            "text/plain": [
              "<Figure size 720x360 with 1 Axes>"
            ],
            "image/png": "[encoded data removed]"
          },
          "metadata": {
            "needs_background": "light"
          }
        }
      ],
      "source": [
        "#Marital\n",
        "plt.figure(figsize = (10,5))\n",
        "sns.countplot(x = 'marital',data = bdf)\n",
        "plt.xlabel(\"Marital\", fontsize=15)\n",
        "plt.ylabel('Count', fontsize=15)\n",
        "plt.title('Marital Distribution', fontsize=15)"
      ]
    },
    {
      "cell_type": "markdown",
      "id": "97064bcb",
      "metadata": {
        "id": "97064bcb"
      },
      "source": [
        "This Below plot helps in observing Customers depositing based on the educational background which helps banks to make aware over students to make them deposit "
      ]
    },
    {
      "cell_type": "code",
      "execution_count": 31,
      "id": "d4e197e4",
      "metadata": {
        "colab": {
          "base_uri": "https://localhost:8080/",
          "height": 362
        },
        "id": "d4e197e4",
        "outputId": "633c8f21-c97d-4127-e76e-9f5688d6072f"
      },
      "outputs": [
        {
          "output_type": "display_data",
          "data": {
            "text/plain": [
              "<Figure size 1440x360 with 1 Axes>"
            ],
            "image/png": "[encoded data removed]"
          },
          "metadata": {
            "needs_background": "light"
          }
        }
      ],
      "source": [
        "fig, ax = plt.subplots()\n",
        "fig.set_size_inches(20, 5)\n",
        "sns.countplot(x = 'education', data = bdf)\n",
        "ax.set_xlabel('Education', fontsize=15)\n",
        "ax.set_ylabel('Count', fontsize=15)\n",
        "ax.set_title('Education Count Distribution', fontsize=15)\n",
        "ax.tick_params(labelsize=15)\n",
        "sns.despine()"
      ]
    },
    {
      "cell_type": "markdown",
      "id": "36406b40",
      "metadata": {
        "id": "36406b40"
      },
      "source": [
        "This loan related plot hels the bank to under the level of customer based on the loan dept, whether to target them in the marketing or not!"
      ]
    },
    {
      "cell_type": "code",
      "execution_count": 32,
      "id": "cb07c7f9",
      "metadata": {
        "colab": {
          "base_uri": "https://localhost:8080/",
          "height": 506
        },
        "id": "cb07c7f9",
        "outputId": "6a312627-4a71-4c3a-fbf6-7635e4c7362e"
      },
      "outputs": [
        {
          "output_type": "display_data",
          "data": {
            "text/plain": [
              "<Figure size 1440x576 with 3 Axes>"
            ],
            "image/png": "[encoded data removed]"
          },
          "metadata": {
            "needs_background": "light"
          }
        }
      ],
      "source": [
        "# Default, customer whos has credit in default \n",
        "fig, (ax1, ax2, ax3) = plt.subplots(nrows = 1, ncols = 3, figsize = (20,8))\n",
        "sns.countplot(x = 'default', data = bdf, ax = ax1, order = ['no', 'unknown', 'yes'])\n",
        "ax1.set_title('Default', fontsize=15)\n",
        "ax1.set_xlabel('')\n",
        "ax1.set_ylabel('Count', fontsize=15)\n",
        "ax1.tick_params(labelsize=15)\n",
        "\n",
        "# Housing, customer whos has housing loan with bank \n",
        "sns.countplot(x = 'housing', data = bdf, ax = ax2, order = ['no', 'unknown', 'yes'])\n",
        "ax2.set_title('Housing', fontsize=15)\n",
        "ax2.set_xlabel('')\n",
        "ax2.set_ylabel('Count', fontsize=15)\n",
        "ax2.tick_params(labelsize=15)\n",
        "\n",
        "# Loan, customer whos has personal loan with bank \n",
        "sns.countplot(x = 'loan', data = bdf, ax = ax3, order = ['no', 'unknown', 'yes'])\n",
        "ax3.set_title('Loan', fontsize=15)\n",
        "ax3.set_xlabel('')\n",
        "ax3.set_ylabel('Count', fontsize=15)\n",
        "ax3.tick_params(labelsize=15)\n",
        "\n",
        "plt.subplots_adjust(wspace=0.25)"
      ]
    },
    {
      "cell_type": "markdown",
      "id": "cd59b698",
      "metadata": {
        "id": "cd59b698"
      },
      "source": [
        "# Data Manupulation & Pre-Processing"
      ]
    },
    {
      "cell_type": "markdown",
      "id": "96657705",
      "metadata": {
        "id": "96657705"
      },
      "source": [
        "As it was advised in the data set duration is affecting the prediction of target when the duration is \"0\" then the Y is also \"0\", which will manupulate prediction a lot hence dropping it "
      ]
    },
    {
      "cell_type": "code",
      "execution_count": 33,
      "id": "c6531d5d",
      "metadata": {
        "id": "c6531d5d"
      },
      "outputs": [],
      "source": [
        "# dropping duration column\n",
        "bdf.drop(['duration'], axis=1, inplace=True)"
      ]
    },
    {
      "cell_type": "code",
      "execution_count": 34,
      "id": "6bae7672",
      "metadata": {
        "colab": {
          "base_uri": "https://localhost:8080/",
          "height": 0
        },
        "id": "6bae7672",
        "outputId": "cf793c50-d008-438a-f2ef-1999895fdf26"
      },
      "outputs": [
        {
          "output_type": "execute_result",
          "data": {
            "text/plain": [
              "(41188, 21)"
            ]
          },
          "metadata": {},
          "execution_count": 34
        }
      ],
      "source": [
        "bdf.shape"
      ]
    },
    {
      "cell_type": "markdown",
      "id": "b1cac609",
      "metadata": {
        "id": "b1cac609"
      },
      "source": [
        "Removing Outlier from the Campaign feature \n",
        "From the box plot shown above, we can see that there is only one number greater than 50. We shall therefore reduce the value."
      ]
    },
    {
      "cell_type": "code",
      "execution_count": 35,
      "id": "3928d988",
      "metadata": {
        "colab": {
          "base_uri": "https://localhost:8080/",
          "height": 0
        },
        "id": "3928d988",
        "outputId": "a8b54830-1040-47c4-ad0e-7bb909ad0c59"
      },
      "outputs": [
        {
          "output_type": "execute_result",
          "data": {
            "text/plain": [
              "1"
            ]
          },
          "metadata": {},
          "execution_count": 35
        }
      ],
      "source": [
        "len(bdf[bdf['campaign']>50])"
      ]
    },
    {
      "cell_type": "code",
      "execution_count": 36,
      "id": "8fa45320",
      "metadata": {
        "id": "8fa45320"
      },
      "outputs": [],
      "source": [
        "bdf.drop(bdf[bdf['campaign'] > 50].index, inplace = True)"
      ]
    },
    {
      "cell_type": "code",
      "execution_count": 37,
      "id": "6d9d6e02",
      "metadata": {
        "colab": {
          "base_uri": "https://localhost:8080/",
          "height": 0
        },
        "id": "6d9d6e02",
        "outputId": "f731bfc8-5cd0-4194-e378-cc1cff11cda6"
      },
      "outputs": [
        {
          "output_type": "execute_result",
          "data": {
            "text/plain": [
              "(41187, 21)"
            ]
          },
          "metadata": {},
          "execution_count": 37
        }
      ],
      "source": [
        "bdf.shape"
      ]
    },
    {
      "cell_type": "markdown",
      "id": "d63fd2e5",
      "metadata": {
        "id": "d63fd2e5"
      },
      "source": [
        "pdays  = Previous no of daya passed till the customer was contacted"
      ]
    },
    {
      "cell_type": "markdown",
      "id": "1414a93a",
      "metadata": {
        "id": "1414a93a"
      },
      "source": [
        "This feature details how many days have gone since the client was last contacted as part of an earlier campaign (numeric; 999 means client was not previously contacted)\n",
        "\n",
        "In order to explain in weeks whether a client was contacted or not, we will convert pdays into the categorical features 1w (less than 7days), 2w (less than 14days), and >2w (more than 14days)"
      ]
    },
    {
      "cell_type": "code",
      "execution_count": 38,
      "id": "a0e12d65",
      "metadata": {
        "id": "a0e12d65"
      },
      "outputs": [],
      "source": [
        "# Processing of converitng the pdays feature to categorical by binng them in to categories\n",
        "# Let's divide pdays into 3 groups like contacte less than 7 days ago , less than 14 days ago and more than 14 days ago , and not contacted 4 four categories \n",
        "bucket = [0, 7, 14, 30,999]\n",
        "label = ['<7days', '<14days', '>14days','Not Contacted']\n",
        "bdf['pdays_group'] = pd.cut(bdf['pdays'], bins=bucket, labels=label, include_lowest=False)"
      ]
    },
    {
      "cell_type": "code",
      "execution_count": 39,
      "id": "64b42f60",
      "metadata": {
        "colab": {
          "base_uri": "https://localhost:8080/",
          "height": 427
        },
        "id": "64b42f60",
        "outputId": "b8853650-1a39-42b9-acf6-51569fa8858b"
      },
      "outputs": [
        {
          "output_type": "execute_result",
          "data": {
            "text/plain": [
              "                job  marital            education default housing loan  \\\n",
              "37890  entrepreneur  married             basic.6y      no     yes   no   \n",
              "37907  entrepreneur  married             basic.6y      no      no   no   \n",
              "39135       retired  married  professional.course      no      no  yes   \n",
              "39187    technician   single          high.school      no      no   no   \n",
              "39549    technician  married  professional.course      no      no   no   \n",
              "39712    management  married              unknown      no     yes   no   \n",
              "39883    management   single    university.degree      no     yes   no   \n",
              "40100    technician  married              unknown      no     yes   no   \n",
              "40210       student   single              unknown      no      no   no   \n",
              "40234        admin.  married             basic.9y      no      no   no   \n",
              "\n",
              "        contact month day_of_week  campaign  pdays  previous poutcome  \\\n",
              "37890  cellular   sep         tue         2     16         1  success   \n",
              "37907  cellular   sep         tue         4     16         2  failure   \n",
              "39135  cellular   mar         tue         1     21         2  failure   \n",
              "39187  cellular   mar         fri         3     17         3  failure   \n",
              "39549  cellular   apr         thu         1     18         1  success   \n",
              "39712  cellular   may         fri         1     18         2  failure   \n",
              "39883  cellular   jun         thu         1     22         1  success   \n",
              "40100  cellular   jul         mon         1     16         1  success   \n",
              "40210  cellular   jul         tue         2     16         1  success   \n",
              "40234  cellular   jul         thu         2     25         2  failure   \n",
              "\n",
              "       emp.var.rate  cons.price.idx  cons.conf.idx  euribor3m  nr.employed  \\\n",
              "37890          -3.4          92.379          -29.8      0.819       5017.5   \n",
              "37907          -3.4          92.379          -29.8      0.819       5017.5   \n",
              "39135          -1.8          93.369          -34.8      0.655       5008.7   \n",
              "39187          -1.8          93.369          -34.8      0.653       5008.7   \n",
              "39549          -1.8          93.749          -34.6      0.659       5008.7   \n",
              "39712          -1.8          93.876          -40.0      0.695       5008.7   \n",
              "39883          -1.7          94.055          -39.8      0.729       4991.6   \n",
              "40100          -1.7          94.215          -40.3      0.827       4991.6   \n",
              "40210          -1.7          94.215          -40.3      0.876       4991.6   \n",
              "40234          -1.7          94.215          -40.3      0.884       4991.6   \n",
              "\n",
              "      subscribed  y_binary age_grp pdays_group  \n",
              "37890        yes         1   31-40     >14days  \n",
              "37907         no         0   31-40     >14days  \n",
              "39135        yes         1     >60     >14days  \n",
              "39187         no         0   31-40     >14days  \n",
              "39549        yes         1   31-40     >14days  \n",
              "39712        yes         1   41-50     >14days  \n",
              "39883        yes         1   17-30     >14days  \n",
              "40100         no         0     >60     >14days  \n",
              "40210        yes         1   17-30     >14days  \n",
              "40234        yes         1   51-60     >14days  "
            ],
            "text/html": [
              "\n",
              "  <div id=\"df-c72d777d-f8ed-4f72-aca9-30bff6ce3cbf\">\n",
              "    <div class=\"colab-df-container\">\n",
              "      <div>\n",
              "<style scoped>\n",
              "    .dataframe tbody tr th:only-of-type {\n",
              "        vertical-align: middle;\n",
              "    }\n",
              "\n",
              "    .dataframe tbody tr th {\n",
              "        vertical-align: top;\n",
              "    }\n",
              "\n",
              "    .dataframe thead th {\n",
              "        text-align: right;\n",
              "    }\n",
              "</style>\n",
              "<table border=\"1\" class=\"dataframe\">\n",
              "  <thead>\n",
              "    <tr style=\"text-align: right;\">\n",
              "      <th></th>\n",
              "      <th>job</th>\n",
              "      <th>marital</th>\n",
              "      <th>education</th>\n",
              "      <th>default</th>\n",
              "      <th>housing</th>\n",
              "      <th>loan</th>\n",
              "      <th>contact</th>\n",
              "      <th>month</th>\n",
              "      <th>day_of_week</th>\n",
              "      <th>campaign</th>\n",
              "      <th>pdays</th>\n",
              "      <th>previous</th>\n",
              "      <th>poutcome</th>\n",
              "      <th>emp.var.rate</th>\n",
              "      <th>cons.price.idx</th>\n",
              "      <th>cons.conf.idx</th>\n",
              "      <th>euribor3m</th>\n",
              "      <th>nr.employed</th>\n",
              "      <th>subscribed</th>\n",
              "      <th>y_binary</th>\n",
              "      <th>age_grp</th>\n",
              "      <th>pdays_group</th>\n",
              "    </tr>\n",
              "  </thead>\n",
              "  <tbody>\n",
              "    <tr>\n",
              "      <th>37890</th>\n",
              "      <td>entrepreneur</td>\n",
              "      <td>married</td>\n",
              "      <td>basic.6y</td>\n",
              "      <td>no</td>\n",
              "      <td>yes</td>\n",
              "      <td>no</td>\n",
              "      <td>cellular</td>\n",
              "      <td>sep</td>\n",
              "      <td>tue</td>\n",
              "      <td>2</td>\n",
              "      <td>16</td>\n",
              "      <td>1</td>\n",
              "      <td>success</td>\n",
              "      <td>-3.4</td>\n",
              "      <td>92.379</td>\n",
              "      <td>-29.8</td>\n",
              "      <td>0.819</td>\n",
              "      <td>5017.5</td>\n",
              "      <td>yes</td>\n",
              "      <td>1</td>\n",
              "      <td>31-40</td>\n",
              "      <td>&gt;14days</td>\n",
              "    </tr>\n",
              "    <tr>\n",
              "      <th>37907</th>\n",
              "      <td>entrepreneur</td>\n",
              "      <td>married</td>\n",
              "      <td>basic.6y</td>\n",
              "      <td>no</td>\n",
              "      <td>no</td>\n",
              "      <td>no</td>\n",
              "      <td>cellular</td>\n",
              "      <td>sep</td>\n",
              "      <td>tue</td>\n",
              "      <td>4</td>\n",
              "      <td>16</td>\n",
              "      <td>2</td>\n",
              "      <td>failure</td>\n",
              "      <td>-3.4</td>\n",
              "      <td>92.379</td>\n",
              "      <td>-29.8</td>\n",
              "      <td>0.819</td>\n",
              "      <td>5017.5</td>\n",
              "      <td>no</td>\n",
              "      <td>0</td>\n",
              "      <td>31-40</td>\n",
              "      <td>&gt;14days</td>\n",
              "    </tr>\n",
              "    <tr>\n",
              "      <th>39135</th>\n",
              "      <td>retired</td>\n",
              "      <td>married</td>\n",
              "      <td>professional.course</td>\n",
              "      <td>no</td>\n",
              "      <td>no</td>\n",
              "      <td>yes</td>\n",
              "      <td>cellular</td>\n",
              "      <td>mar</td>\n",
              "      <td>tue</td>\n",
              "      <td>1</td>\n",
              "      <td>21</td>\n",
              "      <td>2</td>\n",
              "      <td>failure</td>\n",
              "      <td>-1.8</td>\n",
              "      <td>93.369</td>\n",
              "      <td>-34.8</td>\n",
              "      <td>0.655</td>\n",
              "      <td>5008.7</td>\n",
              "      <td>yes</td>\n",
              "      <td>1</td>\n",
              "      <td>&gt;60</td>\n",
              "      <td>&gt;14days</td>\n",
              "    </tr>\n",
              "    <tr>\n",
              "      <th>39187</th>\n",
              "      <td>technician</td>\n",
              "      <td>single</td>\n",
              "      <td>high.school</td>\n",
              "      <td>no</td>\n",
              "      <td>no</td>\n",
              "      <td>no</td>\n",
              "      <td>cellular</td>\n",
              "      <td>mar</td>\n",
              "      <td>fri</td>\n",
              "      <td>3</td>\n",
              "      <td>17</td>\n",
              "      <td>3</td>\n",
              "      <td>failure</td>\n",
              "      <td>-1.8</td>\n",
              "      <td>93.369</td>\n",
              "      <td>-34.8</td>\n",
              "      <td>0.653</td>\n",
              "      <td>5008.7</td>\n",
              "      <td>no</td>\n",
              "      <td>0</td>\n",
              "      <td>31-40</td>\n",
              "      <td>&gt;14days</td>\n",
              "    </tr>\n",
              "    <tr>\n",
              "      <th>39549</th>\n",
              "      <td>technician</td>\n",
              "      <td>married</td>\n",
              "      <td>professional.course</td>\n",
              "      <td>no</td>\n",
              "      <td>no</td>\n",
              "      <td>no</td>\n",
              "      <td>cellular</td>\n",
              "      <td>apr</td>\n",
              "      <td>thu</td>\n",
              "      <td>1</td>\n",
              "      <td>18</td>\n",
              "      <td>1</td>\n",
              "      <td>success</td>\n",
              "      <td>-1.8</td>\n",
              "      <td>93.749</td>\n",
              "      <td>-34.6</td>\n",
              "      <td>0.659</td>\n",
              "      <td>5008.7</td>\n",
              "      <td>yes</td>\n",
              "      <td>1</td>\n",
              "      <td>31-40</td>\n",
              "      <td>&gt;14days</td>\n",
              "    </tr>\n",
              "    <tr>\n",
              "      <th>39712</th>\n",
              "      <td>management</td>\n",
              "      <td>married</td>\n",
              "      <td>unknown</td>\n",
              "      <td>no</td>\n",
              "      <td>yes</td>\n",
              "      <td>no</td>\n",
              "      <td>cellular</td>\n",
              "      <td>may</td>\n",
              "      <td>fri</td>\n",
              "      <td>1</td>\n",
              "      <td>18</td>\n",
              "      <td>2</td>\n",
              "      <td>failure</td>\n",
              "      <td>-1.8</td>\n",
              "      <td>93.876</td>\n",
              "      <td>-40.0</td>\n",
              "      <td>0.695</td>\n",
              "      <td>5008.7</td>\n",
              "      <td>yes</td>\n",
              "      <td>1</td>\n",
              "      <td>41-50</td>\n",
              "      <td>&gt;14days</td>\n",
              "    </tr>\n",
              "    <tr>\n",
              "      <th>39883</th>\n",
              "      <td>management</td>\n",
              "      <td>single</td>\n",
              "      <td>university.degree</td>\n",
              "      <td>no</td>\n",
              "      <td>yes</td>\n",
              "      <td>no</td>\n",
              "      <td>cellular</td>\n",
              "      <td>jun</td>\n",
              "      <td>thu</td>\n",
              "      <td>1</td>\n",
              "      <td>22</td>\n",
              "      <td>1</td>\n",
              "      <td>success</td>\n",
              "      <td>-1.7</td>\n",
              "      <td>94.055</td>\n",
              "      <td>-39.8</td>\n",
              "      <td>0.729</td>\n",
              "      <td>4991.6</td>\n",
              "      <td>yes</td>\n",
              "      <td>1</td>\n",
              "      <td>17-30</td>\n",
              "      <td>&gt;14days</td>\n",
              "    </tr>\n",
              "    <tr>\n",
              "      <th>40100</th>\n",
              "      <td>technician</td>\n",
              "      <td>married</td>\n",
              "      <td>unknown</td>\n",
              "      <td>no</td>\n",
              "      <td>yes</td>\n",
              "      <td>no</td>\n",
              "      <td>cellular</td>\n",
              "      <td>jul</td>\n",
              "      <td>mon</td>\n",
              "      <td>1</td>\n",
              "      <td>16</td>\n",
              "      <td>1</td>\n",
              "      <td>success</td>\n",
              "      <td>-1.7</td>\n",
              "      <td>94.215</td>\n",
              "      <td>-40.3</td>\n",
              "      <td>0.827</td>\n",
              "      <td>4991.6</td>\n",
              "      <td>no</td>\n",
              "      <td>0</td>\n",
              "      <td>&gt;60</td>\n",
              "      <td>&gt;14days</td>\n",
              "    </tr>\n",
              "    <tr>\n",
              "      <th>40210</th>\n",
              "      <td>student</td>\n",
              "      <td>single</td>\n",
              "      <td>unknown</td>\n",
              "      <td>no</td>\n",
              "      <td>no</td>\n",
              "      <td>no</td>\n",
              "      <td>cellular</td>\n",
              "      <td>jul</td>\n",
              "      <td>tue</td>\n",
              "      <td>2</td>\n",
              "      <td>16</td>\n",
              "      <td>1</td>\n",
              "      <td>success</td>\n",
              "      <td>-1.7</td>\n",
              "      <td>94.215</td>\n",
              "      <td>-40.3</td>\n",
              "      <td>0.876</td>\n",
              "      <td>4991.6</td>\n",
              "      <td>yes</td>\n",
              "      <td>1</td>\n",
              "      <td>17-30</td>\n",
              "      <td>&gt;14days</td>\n",
              "    </tr>\n",
              "    <tr>\n",
              "      <th>40234</th>\n",
              "      <td>admin.</td>\n",
              "      <td>married</td>\n",
              "      <td>basic.9y</td>\n",
              "      <td>no</td>\n",
              "      <td>no</td>\n",
              "      <td>no</td>\n",
              "      <td>cellular</td>\n",
              "      <td>jul</td>\n",
              "      <td>thu</td>\n",
              "      <td>2</td>\n",
              "      <td>25</td>\n",
              "      <td>2</td>\n",
              "      <td>failure</td>\n",
              "      <td>-1.7</td>\n",
              "      <td>94.215</td>\n",
              "      <td>-40.3</td>\n",
              "      <td>0.884</td>\n",
              "      <td>4991.6</td>\n",
              "      <td>yes</td>\n",
              "      <td>1</td>\n",
              "      <td>51-60</td>\n",
              "      <td>&gt;14days</td>\n",
              "    </tr>\n",
              "  </tbody>\n",
              "</table>\n",
              "</div>\n",
              "      <button class=\"colab-df-convert\" onclick=\"convertToInteractive('df-c72d777d-f8ed-4f72-aca9-30bff6ce3cbf')\"\n",
              "              title=\"Convert this dataframe to an interactive table.\"\n",
              "              style=\"display:none;\">\n",
              "        \n",
              "  <svg xmlns=\"http://www.w3.org/2000/svg\" height=\"24px\"viewBox=\"0 0 24 24\"\n",
              "       width=\"24px\">\n",
              "    <path d=\"M0 0h24v24H0V0z\" fill=\"none\"/>\n",
              "    <path d=\"M18.56 5.44l.94 2.06.94-2.06 2.06-.94-2.06-.94-.94-2.06-.94 2.06-2.06.94zm-11 1L8.5 8.5l.94-2.06 2.06-.94-2.06-.94L8.5 2.5l-.94 2.06-2.06.94zm10 10l.94 2.06.94-2.06 2.06-.94-2.06-.94-.94-2.06-.94 2.06-2.06.94z\"/><path d=\"M17.41 7.96l-1.37-1.37c-.4-.4-.92-.59-1.43-.59-.52 0-1.04.2-1.43.59L10.3 9.45l-7.72 7.72c-.78.78-.78 2.05 0 2.83L4 21.41c.39.39.9.59 1.41.59.51 0 1.02-.2 1.41-.59l7.78-7.78 2.81-2.81c.8-.78.8-2.07 0-2.86zM5.41 20L4 18.59l7.72-7.72 1.47 1.35L5.41 20z\"/>\n",
              "  </svg>\n",
              "      </button>\n",
              "      \n",
              "  <style>\n",
              "    .colab-df-container {\n",
              "      display:flex;\n",
              "      flex-wrap:wrap;\n",
              "      gap: 12px;\n",
              "    }\n",
              "\n",
              "    .colab-df-convert {\n",
              "      background-color: #E8F0FE;\n",
              "      border: none;\n",
              "      border-radius: 50%;\n",
              "      cursor: pointer;\n",
              "      display: none;\n",
              "      fill: #1967D2;\n",
              "      height: 32px;\n",
              "      padding: 0 0 0 0;\n",
              "      width: 32px;\n",
              "    }\n",
              "\n",
              "    .colab-df-convert:hover {\n",
              "      background-color: #E2EBFA;\n",
              "      box-shadow: 0px 1px 2px rgba(60, 64, 67, 0.3), 0px 1px 3px 1px rgba(60, 64, 67, 0.15);\n",
              "      fill: #174EA6;\n",
              "    }\n",
              "\n",
              "    [theme=dark] .colab-df-convert {\n",
              "      background-color: #3B4455;\n",
              "      fill: #D2E3FC;\n",
              "    }\n",
              "\n",
              "    [theme=dark] .colab-df-convert:hover {\n",
              "      background-color: #434B5C;\n",
              "      box-shadow: 0px 1px 3px 1px rgba(0, 0, 0, 0.15);\n",
              "      filter: drop-shadow(0px 1px 2px rgba(0, 0, 0, 0.3));\n",
              "      fill: #FFFFFF;\n",
              "    }\n",
              "  </style>\n",
              "\n",
              "      <script>\n",
              "        const buttonEl =\n",
              "          document.querySelector('#df-c72d777d-f8ed-4f72-aca9-30bff6ce3cbf button.colab-df-convert');\n",
              "        buttonEl.style.display =\n",
              "          google.colab.kernel.accessAllowed ? 'block' : 'none';\n",
              "\n",
              "        async function convertToInteractive(key) {\n",
              "          const element = document.querySelector('#df-c72d777d-f8ed-4f72-aca9-30bff6ce3cbf');\n",
              "          const dataTable =\n",
              "            await google.colab.kernel.invokeFunction('convertToInteractive',\n",
              "                                                     [key], {});\n",
              "          if (!dataTable) return;\n",
              "\n",
              "          const docLinkHtml = 'Like what you see? Visit the ' +\n",
              "            '<a target=\"_blank\" href=https://colab.research.google.com/notebooks/data_table.ipynb>data table notebook</a>'\n",
              "            + ' to learn more about interactive tables.';\n",
              "          element.innerHTML = '';\n",
              "          dataTable['output_type'] = 'display_data';\n",
              "          await google.colab.output.renderOutput(dataTable, element);\n",
              "          const docLink = document.createElement('div');\n",
              "          docLink.innerHTML = docLinkHtml;\n",
              "          element.appendChild(docLink);\n",
              "        }\n",
              "      </script>\n",
              "    </div>\n",
              "  </div>\n",
              "  "
            ]
          },
          "metadata": {},
          "execution_count": 39
        }
      ],
      "source": [
        "bdf[(bdf['pdays'] >15) & (bdf['pdays'] != 999) ].head(10)"
      ]
    },
    {
      "cell_type": "code",
      "execution_count": 40,
      "id": "4e913ab7",
      "metadata": {
        "colab": {
          "base_uri": "https://localhost:8080/",
          "height": 0
        },
        "id": "4e913ab7",
        "outputId": "5b943a0d-a673-4f77-c5cc-d11f62be5435"
      },
      "outputs": [
        {
          "output_type": "execute_result",
          "data": {
            "text/plain": [
              "15"
            ]
          },
          "metadata": {},
          "execution_count": 40
        }
      ],
      "source": [
        "bdf['pdays_group'].isnull().sum()"
      ]
    },
    {
      "cell_type": "code",
      "execution_count": 41,
      "id": "2d0af4ce",
      "metadata": {
        "id": "2d0af4ce"
      },
      "outputs": [],
      "source": [
        "# Replacing NaN valuea of pdays to \"Not contacted\".\n",
        "bdf['pdays_group'].fillna('Not Contacted', inplace=True)"
      ]
    },
    {
      "cell_type": "code",
      "execution_count": 42,
      "id": "cb8a40db",
      "metadata": {
        "colab": {
          "base_uri": "https://localhost:8080/",
          "height": 0
        },
        "id": "cb8a40db",
        "outputId": "fc832a1a-3d79-44a3-abcb-d2b9b546c297"
      },
      "outputs": [
        {
          "output_type": "execute_result",
          "data": {
            "text/plain": [
              "Not Contacted    39687\n",
              "<7days            1162\n",
              "<14days            276\n",
              ">14days             62\n",
              "Name: pdays_group, dtype: int64"
            ]
          },
          "metadata": {},
          "execution_count": 42
        }
      ],
      "source": [
        "#Checking the categories values count in binner attribute\n",
        "bdf.pdays_group.value_counts()"
      ]
    },
    {
      "cell_type": "code",
      "execution_count": 43,
      "id": "32d3e8c7",
      "metadata": {
        "id": "32d3e8c7"
      },
      "outputs": [],
      "source": [
        "#  drop pdays actual attribute from data set because we are going to use the categorocal one \n",
        "bdf.drop('pdays', axis=1, inplace=True)"
      ]
    },
    {
      "cell_type": "code",
      "execution_count": 44,
      "id": "10c0e647",
      "metadata": {
        "id": "10c0e647"
      },
      "outputs": [],
      "source": [
        "# removing age & pdays from num_varb data frame \n",
        "num_varb.remove('age')\n",
        "num_varb.remove('pdays')"
      ]
    },
    {
      "cell_type": "code",
      "execution_count": 45,
      "id": "97665328",
      "metadata": {
        "id": "97665328"
      },
      "outputs": [],
      "source": [
        "num_varb.remove('duration')"
      ]
    },
    {
      "cell_type": "code",
      "execution_count": 46,
      "id": "6cb21cca",
      "metadata": {
        "id": "6cb21cca"
      },
      "outputs": [],
      "source": [
        "# adding the age_group & pdays_group categorical values created in to cat_varb data frame\n",
        "cat_varb.append('age_group')\n",
        "cat_varb.append('pdays_group')"
      ]
    },
    {
      "cell_type": "code",
      "execution_count": 47,
      "id": "23554969",
      "metadata": {
        "colab": {
          "base_uri": "https://localhost:8080/",
          "height": 0
        },
        "id": "23554969",
        "outputId": "5fe1b4d8-32d3-4eeb-901d-04e4441db12e"
      },
      "outputs": [
        {
          "output_type": "execute_result",
          "data": {
            "text/plain": [
              "Index(['job', 'marital', 'education', 'default', 'housing', 'loan', 'contact',\n",
              "       'month', 'day_of_week', 'campaign', 'previous', 'poutcome',\n",
              "       'emp.var.rate', 'cons.price.idx', 'cons.conf.idx', 'euribor3m',\n",
              "       'nr.employed', 'subscribed', 'y_binary', 'age_grp', 'pdays_group'],\n",
              "      dtype='object')"
            ]
          },
          "metadata": {},
          "execution_count": 47
        }
      ],
      "source": [
        "bdf.columns"
      ]
    },
    {
      "cell_type": "markdown",
      "id": "b27aa744",
      "metadata": {
        "id": "b27aa744"
      },
      "source": [
        "Correlation matric to understand the relationship betwen data set that affects the prediction computation"
      ]
    },
    {
      "cell_type": "code",
      "execution_count": 48,
      "id": "38aabc72",
      "metadata": {
        "colab": {
          "base_uri": "https://localhost:8080/",
          "height": 346
        },
        "id": "38aabc72",
        "outputId": "5ba73c5f-da8e-4d25-b9b8-c92cfd8e8c93"
      },
      "outputs": [
        {
          "output_type": "display_data",
          "data": {
            "text/plain": [
              "<Figure size 1440x360 with 0 Axes>"
            ]
          },
          "metadata": {}
        },
        {
          "output_type": "display_data",
          "data": {
            "text/plain": [
              "<Figure size 432x288 with 2 Axes>"
            ],
            "image/png": "[encoded data removed]"
          },
          "metadata": {
            "needs_background": "light"
          }
        }
      ],
      "source": [
        "plt.figure(figsize=(20,5))\n",
        "#sns.heatmap(df.corr(), annot=True, fmt=\".1f\", linewidths=.7)\n",
        "plt.show()\n",
        "sns.heatmap(bdf.corr(),annot=True,fmt=\".2f\",linewidths=.8)\n",
        "plt.show()"
      ]
    },
    {
      "cell_type": "markdown",
      "id": "87888da2",
      "metadata": {
        "id": "87888da2"
      },
      "source": [
        "The correlation between nr.employed, euribor3m, and emp.var.rate is evident from the data above. We shall use all the columns because multi-collinearity has no effect on categorization predictive modelling."
      ]
    },
    {
      "cell_type": "code",
      "execution_count": 49,
      "id": "9b78d072",
      "metadata": {
        "id": "9b78d072"
      },
      "outputs": [],
      "source": [
        "# Dropping the subscribed column from orginal data because we can converted it in to binary values to get the ease of model calculation\n",
        "bdf.drop('subscribed', axis=1, inplace=True)"
      ]
    },
    {
      "cell_type": "code",
      "execution_count": 50,
      "id": "cbee82b6",
      "metadata": {
        "colab": {
          "base_uri": "https://localhost:8080/",
          "height": 0
        },
        "id": "cbee82b6",
        "outputId": "bf113979-db4d-46f3-c0b9-5242628c6745"
      },
      "outputs": [
        {
          "output_type": "stream",
          "name": "stdout",
          "text": [
            "The no of categorical variables: 10\n",
            "The no of numerical variables: 10\n"
          ]
        }
      ],
      "source": [
        "#Checking the number categorical and Numerical values present after pre processing\n",
        "cat_varb = [var for var in bdf.columns if bdf[var].dtype == 'O' and var != 'y']\n",
        "num_varb = [var for var in bdf.columns if bdf[var].dtype != 'O' and var != 'y']\n",
        "\n",
        "print('The no of categorical variables: {}'.format(len(cat_varb)))\n",
        "print('The no of numerical variables: {}'.format(len(num_varb)))"
      ]
    },
    {
      "cell_type": "code",
      "execution_count": 51,
      "id": "309d7429",
      "metadata": {
        "colab": {
          "base_uri": "https://localhost:8080/",
          "height": 0
        },
        "id": "309d7429",
        "outputId": "243e9f4e-5b1c-43e2-b3fa-024f67896751"
      },
      "outputs": [
        {
          "output_type": "stream",
          "name": "stdout",
          "text": [
            "Few categories ['default', 'housing', 'loan', 'contact', 'poutcome']\n",
            "Many categories ['job', 'marital', 'education', 'month', 'day_of_week']\n"
          ]
        }
      ],
      "source": [
        "# Distinguishing the categorical attributes based on number of categories with them like less and more \n",
        "cat_less = [cat for cat in cat_varb if bdf[cat].nunique() < 4]\n",
        "cat_more = [cat for cat in cat_varb if cat not in cat_less]\n",
        "\n",
        "print('Few categories',cat_less)\n",
        "print('Many categories', cat_more)"
      ]
    },
    {
      "cell_type": "code",
      "execution_count": 52,
      "id": "03d052ed",
      "metadata": {
        "id": "03d052ed"
      },
      "outputs": [],
      "source": [
        "#Appending both categorical values in cat_more data frame\n",
        "cat_more.append(\"age_group\")\n",
        "cat_more.append(\"pdays_group\")"
      ]
    },
    {
      "cell_type": "code",
      "execution_count": 53,
      "id": "8a9d0f16",
      "metadata": {
        "colab": {
          "base_uri": "https://localhost:8080/",
          "height": 0
        },
        "id": "8a9d0f16",
        "outputId": "0faf071f-5322-4600-cd34-1164b0b35d6c"
      },
      "outputs": [
        {
          "output_type": "execute_result",
          "data": {
            "text/plain": [
              "['job',\n",
              " 'marital',\n",
              " 'education',\n",
              " 'month',\n",
              " 'day_of_week',\n",
              " 'age_group',\n",
              " 'pdays_group']"
            ]
          },
          "metadata": {},
          "execution_count": 53
        }
      ],
      "source": [
        "# Checking the categorical value in that cat_more attribute \n",
        "cat_more"
      ]
    },
    {
      "cell_type": "markdown",
      "id": "8b1e915e",
      "metadata": {
        "id": "8b1e915e"
      },
      "source": [
        "lets binary encoding above categorical variables that are having 3 unique values\n",
        "\n",
        "Default - Will assign Yes,unknown to 1 and no to 0\n",
        "Housing - will assign Yes to 1 and no,unknown to 0\n",
        "loan - We will assign Yes to 1 and unknown,No to 0\n",
        "contact - Binary encoding\n",
        "poutcome - Success assigned to 1,rest No and Unknown to 0"
      ]
    },
    {
      "cell_type": "code",
      "execution_count": 54,
      "id": "2eb3a9c5",
      "metadata": {
        "id": "2eb3a9c5"
      },
      "outputs": [],
      "source": [
        "bdf.default = bdf.default.map({'no': 1, 'unknown': 0, 'yes': 0}).astype('uint8')\n",
        "bdf.housing = bdf.housing.map({'no': 0, 'unknown': 0, 'yes': 1}).astype('uint8')\n",
        "bdf.loan = bdf.loan.map({'yes': 1, 'unknown': 0, 'no' : 0}).astype('uint8')\n",
        "bdf.contact = bdf.contact.map({'cellular': 1, 'telephone': 0}).astype('uint8')\n",
        "bdf.poutcome = bdf.poutcome.map({'nonexistent':0, 'failure':0, 'success':1}).astype('uint8')"
      ]
    },
    {
      "cell_type": "markdown",
      "id": "cb5d4136",
      "metadata": {
        "id": "cb5d4136"
      },
      "source": [
        "# Data Test & Train Split"
      ]
    },
    {
      "cell_type": "code",
      "execution_count": 55,
      "id": "0579e159",
      "metadata": {
        "id": "0579e159"
      },
      "outputs": [],
      "source": [
        "X=bdf.drop(columns='y_binary')\n",
        "y=bdf['y_binary']"
      ]
    },
    {
      "cell_type": "code",
      "execution_count": 56,
      "id": "4a1ab52c",
      "metadata": {
        "id": "4a1ab52c"
      },
      "outputs": [],
      "source": [
        "# Training,test split\n",
        "X_train, X_test, y_train, y_test = train_test_split(X, y, test_size=0.20, random_state=42) # 80% training and 20% test"
      ]
    },
    {
      "cell_type": "markdown",
      "id": "b53ff459",
      "metadata": {
        "id": "b53ff459"
      },
      "source": [
        "Observing that the categories have numerous properties, one hot encoding would be a poor choice. The curse of dimensionality will be created by one-hot encoding, and tree-based ensemble models will perform the worst. So preferring  Ordinal Encoding will determine how the features are related. We shall therefore continue using Count encoding for Job, Marital, Education, Month, and Day of Week."
      ]
    },
    {
      "cell_type": "code",
      "execution_count": 57,
      "id": "37be356c",
      "metadata": {
        "id": "37be356c"
      },
      "outputs": [],
      "source": [
        "count_enc = ce.CountFrequencyEncoder(\n",
        "    encoding_method='count', # to do frequency -> encoding_method='frequency'\n",
        "    variables=['job', 'marital', 'education', 'month','day_of_week'])\n",
        "count_enc.fit(X_train)\n",
        "X_train = count_enc.transform(X_train)\n",
        "X_test = count_enc.transform(X_test)"
      ]
    },
    {
      "cell_type": "markdown",
      "id": "fa9ff6df",
      "metadata": {
        "id": "fa9ff6df"
      },
      "source": [
        "As observed from EDA, customers who were not contacted previously did not subscribe to term deposits, and those who are over 60 have done so more. This shows some relationship, and for these two columns, we can try applying ordinal encoding."
      ]
    },
    {
      "cell_type": "code",
      "execution_count": 58,
      "id": "82591d31",
      "metadata": {
        "id": "82591d31"
      },
      "outputs": [],
      "source": [
        "ordinal_enc = ce.OrdinalEncoder(\n",
        "    encoding_method='arbitrary',\n",
        "    variables=['age_grp','pdays_group'])\n",
        "\n",
        "ordinal_enc.fit(X_train)\n",
        "X_train = ordinal_enc.transform(X_train)\n",
        "X_test = ordinal_enc.transform(X_test)"
      ]
    },
    {
      "cell_type": "code",
      "execution_count": 59,
      "id": "8c8cf183",
      "metadata": {
        "colab": {
          "base_uri": "https://localhost:8080/",
          "height": 270
        },
        "id": "8c8cf183",
        "outputId": "929f7e05-628c-48e9-df02-f108672f9755"
      },
      "outputs": [
        {
          "output_type": "execute_result",
          "data": {
            "text/plain": [
              "        job  marital  education  default  housing  loan  contact  month  \\\n",
              "12351  1374    19936       3357        0        0     0        0   5772   \n",
              "38262   812    19936       7599        1        0     1        1    579   \n",
              "27680  8362     9246       7599        1        1     0        0    141   \n",
              "3315   8362     9246       7599        0        0     0        0  10958   \n",
              "30765  1128     9246       9755        1        1     0        1  10958   \n",
              "\n",
              "       day_of_week  campaign  previous  poutcome  emp.var.rate  \\\n",
              "12351         6293         2         0         0           1.4   \n",
              "38262         6467         1         0         0          -3.4   \n",
              "27680         6773         1         0         0          -0.2   \n",
              "3315          6847         2         0         0           1.1   \n",
              "30765         6467         2         0         0          -1.8   \n",
              "\n",
              "       cons.price.idx  cons.conf.idx  euribor3m  nr.employed  age_grp  \\\n",
              "12351          93.918          -42.7      4.959       5228.1        0   \n",
              "38262          92.431          -26.9      0.742       5017.5        1   \n",
              "27680          92.756          -45.9      3.816       5176.3        1   \n",
              "3315           93.994          -36.4      4.860       5191.0        1   \n",
              "30765          92.893          -46.2      1.344       5099.1        1   \n",
              "\n",
              "       pdays_group  \n",
              "12351            0  \n",
              "38262            0  \n",
              "27680            0  \n",
              "3315             0  \n",
              "30765            0  "
            ],
            "text/html": [
              "\n",
              "  <div id=\"df-3d0d68b8-6221-4cba-92b6-3b045e8f30d4\">\n",
              "    <div class=\"colab-df-container\">\n",
              "      <div>\n",
              "<style scoped>\n",
              "    .dataframe tbody tr th:only-of-type {\n",
              "        vertical-align: middle;\n",
              "    }\n",
              "\n",
              "    .dataframe tbody tr th {\n",
              "        vertical-align: top;\n",
              "    }\n",
              "\n",
              "    .dataframe thead th {\n",
              "        text-align: right;\n",
              "    }\n",
              "</style>\n",
              "<table border=\"1\" class=\"dataframe\">\n",
              "  <thead>\n",
              "    <tr style=\"text-align: right;\">\n",
              "      <th></th>\n",
              "      <th>job</th>\n",
              "      <th>marital</th>\n",
              "      <th>education</th>\n",
              "      <th>default</th>\n",
              "      <th>housing</th>\n",
              "      <th>loan</th>\n",
              "      <th>contact</th>\n",
              "      <th>month</th>\n",
              "      <th>day_of_week</th>\n",
              "      <th>campaign</th>\n",
              "      <th>previous</th>\n",
              "      <th>poutcome</th>\n",
              "      <th>emp.var.rate</th>\n",
              "      <th>cons.price.idx</th>\n",
              "      <th>cons.conf.idx</th>\n",
              "      <th>euribor3m</th>\n",
              "      <th>nr.employed</th>\n",
              "      <th>age_grp</th>\n",
              "      <th>pdays_group</th>\n",
              "    </tr>\n",
              "  </thead>\n",
              "  <tbody>\n",
              "    <tr>\n",
              "      <th>12351</th>\n",
              "      <td>1374</td>\n",
              "      <td>19936</td>\n",
              "      <td>3357</td>\n",
              "      <td>0</td>\n",
              "      <td>0</td>\n",
              "      <td>0</td>\n",
              "      <td>0</td>\n",
              "      <td>5772</td>\n",
              "      <td>6293</td>\n",
              "      <td>2</td>\n",
              "      <td>0</td>\n",
              "      <td>0</td>\n",
              "      <td>1.4</td>\n",
              "      <td>93.918</td>\n",
              "      <td>-42.7</td>\n",
              "      <td>4.959</td>\n",
              "      <td>5228.1</td>\n",
              "      <td>0</td>\n",
              "      <td>0</td>\n",
              "    </tr>\n",
              "    <tr>\n",
              "      <th>38262</th>\n",
              "      <td>812</td>\n",
              "      <td>19936</td>\n",
              "      <td>7599</td>\n",
              "      <td>1</td>\n",
              "      <td>0</td>\n",
              "      <td>1</td>\n",
              "      <td>1</td>\n",
              "      <td>579</td>\n",
              "      <td>6467</td>\n",
              "      <td>1</td>\n",
              "      <td>0</td>\n",
              "      <td>0</td>\n",
              "      <td>-3.4</td>\n",
              "      <td>92.431</td>\n",
              "      <td>-26.9</td>\n",
              "      <td>0.742</td>\n",
              "      <td>5017.5</td>\n",
              "      <td>1</td>\n",
              "      <td>0</td>\n",
              "    </tr>\n",
              "    <tr>\n",
              "      <th>27680</th>\n",
              "      <td>8362</td>\n",
              "      <td>9246</td>\n",
              "      <td>7599</td>\n",
              "      <td>1</td>\n",
              "      <td>1</td>\n",
              "      <td>0</td>\n",
              "      <td>0</td>\n",
              "      <td>141</td>\n",
              "      <td>6773</td>\n",
              "      <td>1</td>\n",
              "      <td>0</td>\n",
              "      <td>0</td>\n",
              "      <td>-0.2</td>\n",
              "      <td>92.756</td>\n",
              "      <td>-45.9</td>\n",
              "      <td>3.816</td>\n",
              "      <td>5176.3</td>\n",
              "      <td>1</td>\n",
              "      <td>0</td>\n",
              "    </tr>\n",
              "    <tr>\n",
              "      <th>3315</th>\n",
              "      <td>8362</td>\n",
              "      <td>9246</td>\n",
              "      <td>7599</td>\n",
              "      <td>0</td>\n",
              "      <td>0</td>\n",
              "      <td>0</td>\n",
              "      <td>0</td>\n",
              "      <td>10958</td>\n",
              "      <td>6847</td>\n",
              "      <td>2</td>\n",
              "      <td>0</td>\n",
              "      <td>0</td>\n",
              "      <td>1.1</td>\n",
              "      <td>93.994</td>\n",
              "      <td>-36.4</td>\n",
              "      <td>4.860</td>\n",
              "      <td>5191.0</td>\n",
              "      <td>1</td>\n",
              "      <td>0</td>\n",
              "    </tr>\n",
              "    <tr>\n",
              "      <th>30765</th>\n",
              "      <td>1128</td>\n",
              "      <td>9246</td>\n",
              "      <td>9755</td>\n",
              "      <td>1</td>\n",
              "      <td>1</td>\n",
              "      <td>0</td>\n",
              "      <td>1</td>\n",
              "      <td>10958</td>\n",
              "      <td>6467</td>\n",
              "      <td>2</td>\n",
              "      <td>0</td>\n",
              "      <td>0</td>\n",
              "      <td>-1.8</td>\n",
              "      <td>92.893</td>\n",
              "      <td>-46.2</td>\n",
              "      <td>1.344</td>\n",
              "      <td>5099.1</td>\n",
              "      <td>1</td>\n",
              "      <td>0</td>\n",
              "    </tr>\n",
              "  </tbody>\n",
              "</table>\n",
              "</div>\n",
              "      <button class=\"colab-df-convert\" onclick=\"convertToInteractive('df-3d0d68b8-6221-4cba-92b6-3b045e8f30d4')\"\n",
              "              title=\"Convert this dataframe to an interactive table.\"\n",
              "              style=\"display:none;\">\n",
              "        \n",
              "  <svg xmlns=\"http://www.w3.org/2000/svg\" height=\"24px\"viewBox=\"0 0 24 24\"\n",
              "       width=\"24px\">\n",
              "    <path d=\"M0 0h24v24H0V0z\" fill=\"none\"/>\n",
              "    <path d=\"M18.56 5.44l.94 2.06.94-2.06 2.06-.94-2.06-.94-.94-2.06-.94 2.06-2.06.94zm-11 1L8.5 8.5l.94-2.06 2.06-.94-2.06-.94L8.5 2.5l-.94 2.06-2.06.94zm10 10l.94 2.06.94-2.06 2.06-.94-2.06-.94-.94-2.06-.94 2.06-2.06.94z\"/><path d=\"M17.41 7.96l-1.37-1.37c-.4-.4-.92-.59-1.43-.59-.52 0-1.04.2-1.43.59L10.3 9.45l-7.72 7.72c-.78.78-.78 2.05 0 2.83L4 21.41c.39.39.9.59 1.41.59.51 0 1.02-.2 1.41-.59l7.78-7.78 2.81-2.81c.8-.78.8-2.07 0-2.86zM5.41 20L4 18.59l7.72-7.72 1.47 1.35L5.41 20z\"/>\n",
              "  </svg>\n",
              "      </button>\n",
              "      \n",
              "  <style>\n",
              "    .colab-df-container {\n",
              "      display:flex;\n",
              "      flex-wrap:wrap;\n",
              "      gap: 12px;\n",
              "    }\n",
              "\n",
              "    .colab-df-convert {\n",
              "      background-color: #E8F0FE;\n",
              "      border: none;\n",
              "      border-radius: 50%;\n",
              "      cursor: pointer;\n",
              "      display: none;\n",
              "      fill: #1967D2;\n",
              "      height: 32px;\n",
              "      padding: 0 0 0 0;\n",
              "      width: 32px;\n",
              "    }\n",
              "\n",
              "    .colab-df-convert:hover {\n",
              "      background-color: #E2EBFA;\n",
              "      box-shadow: 0px 1px 2px rgba(60, 64, 67, 0.3), 0px 1px 3px 1px rgba(60, 64, 67, 0.15);\n",
              "      fill: #174EA6;\n",
              "    }\n",
              "\n",
              "    [theme=dark] .colab-df-convert {\n",
              "      background-color: #3B4455;\n",
              "      fill: #D2E3FC;\n",
              "    }\n",
              "\n",
              "    [theme=dark] .colab-df-convert:hover {\n",
              "      background-color: #434B5C;\n",
              "      box-shadow: 0px 1px 3px 1px rgba(0, 0, 0, 0.15);\n",
              "      filter: drop-shadow(0px 1px 2px rgba(0, 0, 0, 0.3));\n",
              "      fill: #FFFFFF;\n",
              "    }\n",
              "  </style>\n",
              "\n",
              "      <script>\n",
              "        const buttonEl =\n",
              "          document.querySelector('#df-3d0d68b8-6221-4cba-92b6-3b045e8f30d4 button.colab-df-convert');\n",
              "        buttonEl.style.display =\n",
              "          google.colab.kernel.accessAllowed ? 'block' : 'none';\n",
              "\n",
              "        async function convertToInteractive(key) {\n",
              "          const element = document.querySelector('#df-3d0d68b8-6221-4cba-92b6-3b045e8f30d4');\n",
              "          const dataTable =\n",
              "            await google.colab.kernel.invokeFunction('convertToInteractive',\n",
              "                                                     [key], {});\n",
              "          if (!dataTable) return;\n",
              "\n",
              "          const docLinkHtml = 'Like what you see? Visit the ' +\n",
              "            '<a target=\"_blank\" href=https://colab.research.google.com/notebooks/data_table.ipynb>data table notebook</a>'\n",
              "            + ' to learn more about interactive tables.';\n",
              "          element.innerHTML = '';\n",
              "          dataTable['output_type'] = 'display_data';\n",
              "          await google.colab.output.renderOutput(dataTable, element);\n",
              "          const docLink = document.createElement('div');\n",
              "          docLink.innerHTML = docLinkHtml;\n",
              "          element.appendChild(docLink);\n",
              "        }\n",
              "      </script>\n",
              "    </div>\n",
              "  </div>\n",
              "  "
            ]
          },
          "metadata": {},
          "execution_count": 59
        }
      ],
      "source": [
        "X_train.head()"
      ]
    },
    {
      "cell_type": "code",
      "execution_count": 60,
      "id": "1b852f2c",
      "metadata": {
        "colab": {
          "base_uri": "https://localhost:8080/",
          "height": 270
        },
        "id": "1b852f2c",
        "outputId": "3600e581-828a-4fac-df6e-a78c7cba7521"
      },
      "outputs": [
        {
          "output_type": "execute_result",
          "data": {
            "text/plain": [
              "        job  marital  education  default  housing  loan  contact  month  \\\n",
              "19696  5363     9246       9755        1        1     0        1   4937   \n",
              "25898  2353    19936       9755        1        1     0        1   3257   \n",
              "5383   1138    19936       9755        1        0     0        0  10958   \n",
              "11758  7406    19936       3357        1        1     0        0   4273   \n",
              "28297  1374    19936       1411        1        1     0        0   2123   \n",
              "\n",
              "       day_of_week  campaign  previous  poutcome  emp.var.rate  \\\n",
              "19696         6847         3         0         0           1.4   \n",
              "25898         6569         2         0         0          -0.1   \n",
              "5383          6293         2         0         0           1.1   \n",
              "11758         6293         7         0         0           1.4   \n",
              "28297         6569         1         0         0          -1.8   \n",
              "\n",
              "       cons.price.idx  cons.conf.idx  euribor3m  nr.employed  age_grp  \\\n",
              "19696          93.444          -36.1      4.968       5228.1        1   \n",
              "25898          93.200          -42.0      4.120       5195.8        1   \n",
              "5383           93.994          -36.4      4.857       5191.0        3   \n",
              "11758          94.465          -41.8      4.959       5228.1        1   \n",
              "28297          93.075          -47.1      1.445       5099.1        4   \n",
              "\n",
              "       pdays_group  \n",
              "19696            0  \n",
              "25898            0  \n",
              "5383             0  \n",
              "11758            0  \n",
              "28297            0  "
            ],
            "text/html": [
              "\n",
              "  <div id=\"df-48d180d4-50a0-4683-ae21-50ea2673fc46\">\n",
              "    <div class=\"colab-df-container\">\n",
              "      <div>\n",
              "<style scoped>\n",
              "    .dataframe tbody tr th:only-of-type {\n",
              "        vertical-align: middle;\n",
              "    }\n",
              "\n",
              "    .dataframe tbody tr th {\n",
              "        vertical-align: top;\n",
              "    }\n",
              "\n",
              "    .dataframe thead th {\n",
              "        text-align: right;\n",
              "    }\n",
              "</style>\n",
              "<table border=\"1\" class=\"dataframe\">\n",
              "  <thead>\n",
              "    <tr style=\"text-align: right;\">\n",
              "      <th></th>\n",
              "      <th>job</th>\n",
              "      <th>marital</th>\n",
              "      <th>education</th>\n",
              "      <th>default</th>\n",
              "      <th>housing</th>\n",
              "      <th>loan</th>\n",
              "      <th>contact</th>\n",
              "      <th>month</th>\n",
              "      <th>day_of_week</th>\n",
              "      <th>campaign</th>\n",
              "      <th>previous</th>\n",
              "      <th>poutcome</th>\n",
              "      <th>emp.var.rate</th>\n",
              "      <th>cons.price.idx</th>\n",
              "      <th>cons.conf.idx</th>\n",
              "      <th>euribor3m</th>\n",
              "      <th>nr.employed</th>\n",
              "      <th>age_grp</th>\n",
              "      <th>pdays_group</th>\n",
              "    </tr>\n",
              "  </thead>\n",
              "  <tbody>\n",
              "    <tr>\n",
              "      <th>19696</th>\n",
              "      <td>5363</td>\n",
              "      <td>9246</td>\n",
              "      <td>9755</td>\n",
              "      <td>1</td>\n",
              "      <td>1</td>\n",
              "      <td>0</td>\n",
              "      <td>1</td>\n",
              "      <td>4937</td>\n",
              "      <td>6847</td>\n",
              "      <td>3</td>\n",
              "      <td>0</td>\n",
              "      <td>0</td>\n",
              "      <td>1.4</td>\n",
              "      <td>93.444</td>\n",
              "      <td>-36.1</td>\n",
              "      <td>4.968</td>\n",
              "      <td>5228.1</td>\n",
              "      <td>1</td>\n",
              "      <td>0</td>\n",
              "    </tr>\n",
              "    <tr>\n",
              "      <th>25898</th>\n",
              "      <td>2353</td>\n",
              "      <td>19936</td>\n",
              "      <td>9755</td>\n",
              "      <td>1</td>\n",
              "      <td>1</td>\n",
              "      <td>0</td>\n",
              "      <td>1</td>\n",
              "      <td>3257</td>\n",
              "      <td>6569</td>\n",
              "      <td>2</td>\n",
              "      <td>0</td>\n",
              "      <td>0</td>\n",
              "      <td>-0.1</td>\n",
              "      <td>93.200</td>\n",
              "      <td>-42.0</td>\n",
              "      <td>4.120</td>\n",
              "      <td>5195.8</td>\n",
              "      <td>1</td>\n",
              "      <td>0</td>\n",
              "    </tr>\n",
              "    <tr>\n",
              "      <th>5383</th>\n",
              "      <td>1138</td>\n",
              "      <td>19936</td>\n",
              "      <td>9755</td>\n",
              "      <td>1</td>\n",
              "      <td>0</td>\n",
              "      <td>0</td>\n",
              "      <td>0</td>\n",
              "      <td>10958</td>\n",
              "      <td>6293</td>\n",
              "      <td>2</td>\n",
              "      <td>0</td>\n",
              "      <td>0</td>\n",
              "      <td>1.1</td>\n",
              "      <td>93.994</td>\n",
              "      <td>-36.4</td>\n",
              "      <td>4.857</td>\n",
              "      <td>5191.0</td>\n",
              "      <td>3</td>\n",
              "      <td>0</td>\n",
              "    </tr>\n",
              "    <tr>\n",
              "      <th>11758</th>\n",
              "      <td>7406</td>\n",
              "      <td>19936</td>\n",
              "      <td>3357</td>\n",
              "      <td>1</td>\n",
              "      <td>1</td>\n",
              "      <td>0</td>\n",
              "      <td>0</td>\n",
              "      <td>4273</td>\n",
              "      <td>6293</td>\n",
              "      <td>7</td>\n",
              "      <td>0</td>\n",
              "      <td>0</td>\n",
              "      <td>1.4</td>\n",
              "      <td>94.465</td>\n",
              "      <td>-41.8</td>\n",
              "      <td>4.959</td>\n",
              "      <td>5228.1</td>\n",
              "      <td>1</td>\n",
              "      <td>0</td>\n",
              "    </tr>\n",
              "    <tr>\n",
              "      <th>28297</th>\n",
              "      <td>1374</td>\n",
              "      <td>19936</td>\n",
              "      <td>1411</td>\n",
              "      <td>1</td>\n",
              "      <td>1</td>\n",
              "      <td>0</td>\n",
              "      <td>0</td>\n",
              "      <td>2123</td>\n",
              "      <td>6569</td>\n",
              "      <td>1</td>\n",
              "      <td>0</td>\n",
              "      <td>0</td>\n",
              "      <td>-1.8</td>\n",
              "      <td>93.075</td>\n",
              "      <td>-47.1</td>\n",
              "      <td>1.445</td>\n",
              "      <td>5099.1</td>\n",
              "      <td>4</td>\n",
              "      <td>0</td>\n",
              "    </tr>\n",
              "  </tbody>\n",
              "</table>\n",
              "</div>\n",
              "      <button class=\"colab-df-convert\" onclick=\"convertToInteractive('df-48d180d4-50a0-4683-ae21-50ea2673fc46')\"\n",
              "              title=\"Convert this dataframe to an interactive table.\"\n",
              "              style=\"display:none;\">\n",
              "        \n",
              "  <svg xmlns=\"http://www.w3.org/2000/svg\" height=\"24px\"viewBox=\"0 0 24 24\"\n",
              "       width=\"24px\">\n",
              "    <path d=\"M0 0h24v24H0V0z\" fill=\"none\"/>\n",
              "    <path d=\"M18.56 5.44l.94 2.06.94-2.06 2.06-.94-2.06-.94-.94-2.06-.94 2.06-2.06.94zm-11 1L8.5 8.5l.94-2.06 2.06-.94-2.06-.94L8.5 2.5l-.94 2.06-2.06.94zm10 10l.94 2.06.94-2.06 2.06-.94-2.06-.94-.94-2.06-.94 2.06-2.06.94z\"/><path d=\"M17.41 7.96l-1.37-1.37c-.4-.4-.92-.59-1.43-.59-.52 0-1.04.2-1.43.59L10.3 9.45l-7.72 7.72c-.78.78-.78 2.05 0 2.83L4 21.41c.39.39.9.59 1.41.59.51 0 1.02-.2 1.41-.59l7.78-7.78 2.81-2.81c.8-.78.8-2.07 0-2.86zM5.41 20L4 18.59l7.72-7.72 1.47 1.35L5.41 20z\"/>\n",
              "  </svg>\n",
              "      </button>\n",
              "      \n",
              "  <style>\n",
              "    .colab-df-container {\n",
              "      display:flex;\n",
              "      flex-wrap:wrap;\n",
              "      gap: 12px;\n",
              "    }\n",
              "\n",
              "    .colab-df-convert {\n",
              "      background-color: #E8F0FE;\n",
              "      border: none;\n",
              "      border-radius: 50%;\n",
              "      cursor: pointer;\n",
              "      display: none;\n",
              "      fill: #1967D2;\n",
              "      height: 32px;\n",
              "      padding: 0 0 0 0;\n",
              "      width: 32px;\n",
              "    }\n",
              "\n",
              "    .colab-df-convert:hover {\n",
              "      background-color: #E2EBFA;\n",
              "      box-shadow: 0px 1px 2px rgba(60, 64, 67, 0.3), 0px 1px 3px 1px rgba(60, 64, 67, 0.15);\n",
              "      fill: #174EA6;\n",
              "    }\n",
              "\n",
              "    [theme=dark] .colab-df-convert {\n",
              "      background-color: #3B4455;\n",
              "      fill: #D2E3FC;\n",
              "    }\n",
              "\n",
              "    [theme=dark] .colab-df-convert:hover {\n",
              "      background-color: #434B5C;\n",
              "      box-shadow: 0px 1px 3px 1px rgba(0, 0, 0, 0.15);\n",
              "      filter: drop-shadow(0px 1px 2px rgba(0, 0, 0, 0.3));\n",
              "      fill: #FFFFFF;\n",
              "    }\n",
              "  </style>\n",
              "\n",
              "      <script>\n",
              "        const buttonEl =\n",
              "          document.querySelector('#df-48d180d4-50a0-4683-ae21-50ea2673fc46 button.colab-df-convert');\n",
              "        buttonEl.style.display =\n",
              "          google.colab.kernel.accessAllowed ? 'block' : 'none';\n",
              "\n",
              "        async function convertToInteractive(key) {\n",
              "          const element = document.querySelector('#df-48d180d4-50a0-4683-ae21-50ea2673fc46');\n",
              "          const dataTable =\n",
              "            await google.colab.kernel.invokeFunction('convertToInteractive',\n",
              "                                                     [key], {});\n",
              "          if (!dataTable) return;\n",
              "\n",
              "          const docLinkHtml = 'Like what you see? Visit the ' +\n",
              "            '<a target=\"_blank\" href=https://colab.research.google.com/notebooks/data_table.ipynb>data table notebook</a>'\n",
              "            + ' to learn more about interactive tables.';\n",
              "          element.innerHTML = '';\n",
              "          dataTable['output_type'] = 'display_data';\n",
              "          await google.colab.output.renderOutput(dataTable, element);\n",
              "          const docLink = document.createElement('div');\n",
              "          docLink.innerHTML = docLinkHtml;\n",
              "          element.appendChild(docLink);\n",
              "        }\n",
              "      </script>\n",
              "    </div>\n",
              "  </div>\n",
              "  "
            ]
          },
          "metadata": {},
          "execution_count": 60
        }
      ],
      "source": [
        "X_test.head()"
      ]
    },
    {
      "cell_type": "markdown",
      "id": "5ee3529b",
      "metadata": {
        "id": "5ee3529b"
      },
      "source": [
        "Using Label Encoder to encode the target variable"
      ]
    },
    {
      "cell_type": "code",
      "execution_count": 61,
      "id": "04ef5995",
      "metadata": {
        "id": "04ef5995"
      },
      "outputs": [],
      "source": [
        "label_encoder = preprocessing.LabelEncoder()\n",
        "label_encoder.fit(y_train)\n",
        "y_train= label_encoder.transform(y_train)\n",
        "y_test= label_encoder.transform(y_test)"
      ]
    },
    {
      "cell_type": "markdown",
      "id": "83480b77",
      "metadata": {
        "id": "83480b77"
      },
      "source": [
        "# Scaling"
      ]
    },
    {
      "cell_type": "markdown",
      "id": "0247d8ef",
      "metadata": {
        "id": "0247d8ef"
      },
      "source": [
        "Feature scaling is important because similar scales help machine learning models decrease the time to learn data. Also, some machine learning models like SVM are sensitive to the scale of the variable.\n",
        "\n",
        "We will use the StandardScaler method,as this is preferred when the data doesn't have means as 0 a7 gaussian distribution."
      ]
    },
    {
      "cell_type": "code",
      "execution_count": 62,
      "id": "f881cd6a",
      "metadata": {
        "id": "f881cd6a"
      },
      "outputs": [],
      "source": [
        "standard_scaler = StandardScaler()\n",
        "standard_scaler.fit(X_train)\n",
        "# transform train and test set\n",
        "X_train = standard_scaler.transform(X_train)\n",
        "X_test = standard_scaler.transform(X_test)"
      ]
    },
    {
      "cell_type": "code",
      "execution_count": 63,
      "id": "VaGGKJRvcp3J",
      "metadata": {
        "id": "VaGGKJRvcp3J"
      },
      "outputs": [],
      "source": [
        "X_train = X_train[0:15000,:]\n",
        "X_test =  X_test[0:4000,:]\n",
        "y_train = y_train[0:15000]\n",
        "y_test =  y_test[0:4000]"
      ]
    },
    {
      "cell_type": "markdown",
      "id": "7b8abeda",
      "metadata": {
        "id": "7b8abeda"
      },
      "source": [
        "# Methods"
      ]
    },
    {
      "cell_type": "code",
      "source": [
        "#Here we are going to use algorithims like 1, lOGISTIC Rgression - WHich is good for binary classification using sigmoid function \n",
        "#and 2,Random forest wi braching of logical tree for efficient classification and Artificail Neural Network with 3 layer prectron , which wil result best prediction "
      ],
      "metadata": {
        "id": "LGrLdBmh_qoL"
      },
      "id": "LGrLdBmh_qoL",
      "execution_count": 1,
      "outputs": []
    },
    {
      "cell_type": "markdown",
      "id": "21bcbad3",
      "metadata": {
        "id": "21bcbad3"
      },
      "source": [
        "# Model Building"
      ]
    },
    {
      "cell_type": "code",
      "execution_count": 64,
      "id": "e4bbf3bf",
      "metadata": {
        "id": "e4bbf3bf"
      },
      "outputs": [],
      "source": [
        " #Classfication Model : Classification using random forest classifier and without sampling\n",
        " \n",
        " #We will use Stratified Cross validation,as it's effective in imbalanced dataset"
      ]
    },
    {
      "cell_type": "code",
      "execution_count": 65,
      "id": "GcDWaX59_ila",
      "metadata": {
        "id": "GcDWaX59_ila"
      },
      "outputs": [],
      "source": [
        "#Create Stratified K-fold cross validation\n",
        "cv = RepeatedStratifiedKFold(n_splits=10, n_repeats=3, random_state=42)"
      ]
    },
    {
      "cell_type": "code",
      "execution_count": 66,
      "id": "90aa6b61",
      "metadata": {
        "id": "90aa6b61"
      },
      "outputs": [],
      "source": [
        "def logistic_regression (X_train,y_train,X_test,y_test):\n",
        "    #Create a Gaussian Classifier with the  parameters\n",
        "    clf_bf_lr = LogisticRegression()\n",
        "    clf_bf_lr.fit(X_train,y_train)\n",
        "# Predict the response on the train data\n",
        "    y_pred_train = clf_bf_lr.predict(X_train)\n",
        "#Predict the response for test dataset created from the data\n",
        "    y_pred_test = clf_bf_lr.predict(X_test)\n",
        "    print(\"ROC AUC of the Logistic Reg Model on a train data:\",roc_auc_score(y_train, y_pred_train))\n",
        "    print(\"ROC AUC of the Logistic Reg Model on a test data:\",roc_auc_score(y_test, y_pred_test))\n",
        "# Create the Confusion Matrix to understand Sensitivity,Specificity,Accuracy\n",
        "    print('Confusion Matrix ' , confusion_matrix(y_test, y_pred_test))\n",
        "    print(classification_report(y_test, y_pred_test))\n",
        "\n",
        "\n",
        "# Evaluate the Logistic Reg Model using K-fold cross validation \n",
        "    rd_scores = cross_val_score(clf_bf_lr, X_train,y_train, cv=cv,scoring='roc_auc',n_jobs=-1)\n",
        "# report performance\n",
        "    print('The mean ROC AUC of Logistic Reg Model using stratified cross validation is : %.3f (%.3f)' % (np.mean(rd_scores), np.std(rd_scores)))"
      ]
    },
    {
      "cell_type": "code",
      "execution_count": 67,
      "id": "2ba635a2",
      "metadata": {
        "colab": {
          "base_uri": "https://localhost:8080/",
          "height": 0
        },
        "id": "2ba635a2",
        "outputId": "5fb4123f-c0a2-4967-80f4-1d24786e42eb"
      },
      "outputs": [
        {
          "output_type": "stream",
          "name": "stdout",
          "text": [
            "ROC AUC of the Logistic Reg Model on a train data: 0.5899530803643325\n",
            "ROC AUC of the Logistic Reg Model on a test data: 0.5793895284656437\n",
            "Confusion Matrix  [[3532   35]\n",
            " [ 360   73]]\n",
            "              precision    recall  f1-score   support\n",
            "\n",
            "           0       0.91      0.99      0.95      3567\n",
            "           1       0.68      0.17      0.27       433\n",
            "\n",
            "    accuracy                           0.90      4000\n",
            "   macro avg       0.79      0.58      0.61      4000\n",
            "weighted avg       0.88      0.90      0.87      4000\n",
            "\n",
            "The mean ROC AUC of Logistic Reg Model using stratified cross validation is : 0.781 (0.015)\n"
          ]
        }
      ],
      "source": [
        "logistic_regression(X_train,y_train,X_test,y_test)"
      ]
    },
    {
      "cell_type": "markdown",
      "id": "74e193a9",
      "metadata": {
        "id": "74e193a9",
        "outputId": "026d721e-c5f5-454b-da8e-f138064cfcec"
      },
      "source": [
        "As we can see, the imbalance dataset is the reason why the area under the curve is big and the F1 score for subscribed term deposits is too low.\n",
        "To combat the bias, we shall use the sampling methods described below.\n",
        "\n",
        "1. SMOTE Over-sampling"
      ]
    },
    {
      "cell_type": "code",
      "execution_count": 68,
      "id": "26a83ef8",
      "metadata": {
        "colab": {
          "base_uri": "https://localhost:8080/",
          "height": 0
        },
        "id": "26a83ef8",
        "outputId": "a00cce6a-a0bf-4a87-f842-72771a6186d3"
      },
      "outputs": [
        {
          "output_type": "stream",
          "name": "stdout",
          "text": [
            "(26510, 19)\n",
            "(26510,)\n",
            "Original dataset shape Counter({0: 36547, 1: 4640})\n",
            "Resampled dataset shape Counter({0: 13255, 1: 13255})\n"
          ]
        }
      ],
      "source": [
        "# Importing SMOTETomek\n",
        "from imblearn.over_sampling import RandomOverSampler\n",
        "# Implementing Oversampling for Handling Imbalanced \n",
        "os =  RandomOverSampler(random_state=42)\n",
        "X_res, y_res = os.fit_resample(X_train, y_train)\n",
        "\n",
        "print(X_res.shape)\n",
        "print(y_res.shape)\n",
        "    \n",
        "from collections import Counter\n",
        "print('Original dataset shape {}'.format(Counter(y)))\n",
        "print('Resampled dataset shape {}'.format(Counter(y_res)))"
      ]
    },
    {
      "cell_type": "markdown",
      "id": "8024f813",
      "metadata": {
        "id": "8024f813"
      },
      "source": [
        "# Models & Results"
      ]
    },
    {
      "cell_type": "code",
      "execution_count": 69,
      "id": "6a103981",
      "metadata": {
        "id": "6a103981"
      },
      "outputs": [],
      "source": [
        "#Classfication Model : Classification using Logistic Regression and with sampling"
      ]
    },
    {
      "cell_type": "code",
      "execution_count": 70,
      "id": "3e079e17",
      "metadata": {
        "colab": {
          "base_uri": "https://localhost:8080/",
          "height": 0
        },
        "id": "3e079e17",
        "outputId": "392ab4da-1e01-450c-9ae7-fd2ac541f5af"
      },
      "outputs": [
        {
          "output_type": "stream",
          "name": "stdout",
          "text": [
            "ROC AUC of the Logistic Reg Model on a train data: 0.7331572991324029\n",
            "ROC AUC of the Logistic Reg Model on a test data: 0.7436204727580444\n",
            "Confusion Matrix  [[3089  478]\n",
            " [ 164  269]]\n",
            "              precision    recall  f1-score   support\n",
            "\n",
            "           0       0.95      0.87      0.91      3567\n",
            "           1       0.36      0.62      0.46       433\n",
            "\n",
            "    accuracy                           0.84      4000\n",
            "   macro avg       0.65      0.74      0.68      4000\n",
            "weighted avg       0.89      0.84      0.86      4000\n",
            "\n",
            "The mean ROC AUC of Logistic Reg Model using stratified cross validation is : 0.788 (0.010)\n"
          ]
        }
      ],
      "source": [
        "logistic_regression(X_res,y_res,X_test,y_test)"
      ]
    },
    {
      "cell_type": "code",
      "source": [
        ""
      ],
      "metadata": {
        "id": "0iHTdga_F2uN"
      },
      "id": "0iHTdga_F2uN",
      "execution_count": null,
      "outputs": []
    },
    {
      "cell_type": "markdown",
      "source": [
        "The output reesults in evalution metric of classification are ROC-AUC CUREVE and F1 score which harmonic mean of precesion and recall, F1 score looksimproved on sampled daat wehn compared to ray logistic data input"
      ],
      "metadata": {
        "id": "vcBzQ-UzG9Oo"
      },
      "id": "vcBzQ-UzG9Oo"
    },
    {
      "cell_type": "code",
      "execution_count": 71,
      "id": "baa1fb26",
      "metadata": {
        "id": "baa1fb26"
      },
      "outputs": [],
      "source": [
        "#Classfication Model : Classification using random forest classifier and without sampling"
      ]
    },
    {
      "cell_type": "code",
      "execution_count": 72,
      "id": "1f744acb",
      "metadata": {
        "id": "1f744acb"
      },
      "outputs": [],
      "source": [
        "def standard_random_forest_function(X_train,y_train,X_test,y_test):\n",
        "    #Create a Gaussian Classifier with the tuned parameters\n",
        "    clf_bf_rd=RandomForestClassifier()\n",
        "    clf_bf_rd.fit(X_train,y_train)\n",
        "# Predict the response on the train data\n",
        "    y_pred_train = clf_bf_rd.predict(X_train)\n",
        "#Predict the response for test dataset created from the data\n",
        "    y_pred_test = clf_bf_rd.predict(X_test)\n",
        "    print(\"ROC AUC of the Random Forest Model on a train data:\",roc_auc_score(y_train, y_pred_train))\n",
        "    print(\"ROC AUC of the Random Forest Model on a test data:\",roc_auc_score(y_test, y_pred_test))\n",
        "# Create the Confusion Matrix to understand Sensitivity,Specificity,Accuracy\n",
        "    print('Confusion Matrix ' , confusion_matrix(y_test, y_pred_test))\n",
        "    print(classification_report(y_test, y_pred_test))\n",
        "\n",
        "\n",
        "# Evaluate the Random Forest Model using K-fold cross validation \n",
        "    rd_scores = cross_val_score(clf_bf_rd, X_train,y_train, cv=cv,scoring='roc_auc',n_jobs=-1)\n",
        "# report performance\n",
        "    print('The mean ROC AUC of Random Forest Model using stratified cross validation is : %.3f (%.3f)' % (np.mean(rd_scores), np.std(rd_scores)))"
      ]
    },
    {
      "cell_type": "code",
      "execution_count": 73,
      "id": "d9f4778a",
      "metadata": {
        "colab": {
          "base_uri": "https://localhost:8080/",
          "height": 0
        },
        "id": "d9f4778a",
        "outputId": "276e3191-26a2-4f9f-a245-d787a6cd4790"
      },
      "outputs": [
        {
          "output_type": "stream",
          "name": "stdout",
          "text": [
            "ROC AUC of the Random Forest Model on a train data: 0.9719647340734264\n",
            "ROC AUC of the Random Forest Model on a test data: 0.6032381770023004\n",
            "Confusion Matrix  [[3455  112]\n",
            " [ 330  103]]\n",
            "              precision    recall  f1-score   support\n",
            "\n",
            "           0       0.91      0.97      0.94      3567\n",
            "           1       0.48      0.24      0.32       433\n",
            "\n",
            "    accuracy                           0.89      4000\n",
            "   macro avg       0.70      0.60      0.63      4000\n",
            "weighted avg       0.87      0.89      0.87      4000\n",
            "\n",
            "The mean ROC AUC of Random Forest Model using stratified cross validation is : 0.762 (0.019)\n"
          ]
        }
      ],
      "source": [
        "standard_random_forest_function(X_train,y_train,X_test,y_test)"
      ]
    },
    {
      "cell_type": "markdown",
      "id": "9b68e0cc",
      "metadata": {
        "id": "9b68e0cc"
      },
      "source": [
        " Classfication Model : Classification using random forest classifier and with sampling"
      ]
    },
    {
      "cell_type": "code",
      "execution_count": 74,
      "id": "a867e2c4",
      "metadata": {
        "colab": {
          "base_uri": "https://localhost:8080/",
          "height": 0
        },
        "id": "a867e2c4",
        "outputId": "493c6e18-7913-46c5-b834-ccd41bbb6389"
      },
      "outputs": [
        {
          "output_type": "stream",
          "name": "stdout",
          "text": [
            "ROC AUC of the Random Forest Model on a train data: 0.9950961901169371\n",
            "ROC AUC of the Random Forest Model on a test data: 0.6485327718611263\n",
            "Confusion Matrix  [[3358  209]\n",
            " [ 279  154]]\n",
            "              precision    recall  f1-score   support\n",
            "\n",
            "           0       0.92      0.94      0.93      3567\n",
            "           1       0.42      0.36      0.39       433\n",
            "\n",
            "    accuracy                           0.88      4000\n",
            "   macro avg       0.67      0.65      0.66      4000\n",
            "weighted avg       0.87      0.88      0.87      4000\n",
            "\n",
            "The mean ROC AUC of Random Forest Model using stratified cross validation is : 0.995 (0.001)\n"
          ]
        }
      ],
      "source": [
        "standard_random_forest_function(X_res,y_res,X_test,y_test)"
      ]
    },
    {
      "cell_type": "markdown",
      "source": [
        "Here the Randon forest on sampled ata has improved the F1 score than raw data RF"
      ],
      "metadata": {
        "id": "ZN2cejobHH-V"
      },
      "id": "ZN2cejobHH-V"
    },
    {
      "cell_type": "code",
      "execution_count": 75,
      "id": "270e53bc",
      "metadata": {
        "id": "270e53bc"
      },
      "outputs": [],
      "source": [
        " #Classfication Model : Classification using Artificial Neural Network classifier and with sampling"
      ]
    },
    {
      "cell_type": "code",
      "execution_count": 76,
      "id": "2Jj4eMKpnyxD",
      "metadata": {
        "id": "2Jj4eMKpnyxD"
      },
      "outputs": [],
      "source": [
        "import tensorflow as tf"
      ]
    },
    {
      "cell_type": "code",
      "execution_count": 77,
      "id": "8JZBUxghuiRE",
      "metadata": {
        "id": "8JZBUxghuiRE"
      },
      "outputs": [],
      "source": [
        "from keras.models import Sequential"
      ]
    },
    {
      "cell_type": "code",
      "execution_count": 78,
      "id": "Fe__ps11u4hv",
      "metadata": {
        "id": "Fe__ps11u4hv"
      },
      "outputs": [],
      "source": [
        "from keras.layers import Activation, Dense"
      ]
    },
    {
      "cell_type": "code",
      "execution_count": 79,
      "id": "0eTwniyhACdG",
      "metadata": {
        "id": "0eTwniyhACdG"
      },
      "outputs": [],
      "source": [
        "# initializing the ANN\n",
        "classifier = Sequential()\n",
        "# Adding the input layer and the hidden layer\n",
        "classifier.add(Dense(units = 25 , kernel_initializer = 'uniform',\n",
        "                     activation = 'relu', input_dim = 19))\n",
        "# Adding a second hidden layer\n",
        "classifier.add(Dense(units = 18, kernel_initializer = 'uniform', activation = 'relu'))\n",
        "classifier.add(Dense(units = 9, kernel_initializer = 'uniform', activation = 'relu'))\n",
        "# Adding the output layer\n",
        "classifier.add(Dense(units = 1, kernel_initializer = 'uniform', activation = 'sigmoid'))\n",
        "# Compiling the ANN\n",
        "classifier.compile(optimizer = 'adam', loss = 'binary_crossentropy', metrics = ['accuracy'])"
      ]
    },
    {
      "cell_type": "code",
      "execution_count": 80,
      "id": "mdj_bXZGACf-",
      "metadata": {
        "colab": {
          "base_uri": "https://localhost:8080/",
          "height": 0
        },
        "id": "mdj_bXZGACf-",
        "outputId": "6983a27d-1451-4234-9d4d-99be8a0fd5d8"
      },
      "outputs": [
        {
          "output_type": "stream",
          "name": "stdout",
          "text": [
            "Epoch 1/10\n",
            "150/150 [==============================] - 1s 2ms/step - loss: 0.4872 - accuracy: 0.8808\n",
            "Epoch 2/10\n",
            "150/150 [==============================] - 0s 2ms/step - loss: 0.2989 - accuracy: 0.8837\n",
            "Epoch 3/10\n",
            "150/150 [==============================] - 0s 2ms/step - loss: 0.2940 - accuracy: 0.8837\n",
            "Epoch 4/10\n",
            "150/150 [==============================] - 0s 2ms/step - loss: 0.2919 - accuracy: 0.8837\n",
            "Epoch 5/10\n",
            "150/150 [==============================] - 0s 2ms/step - loss: 0.2906 - accuracy: 0.8837\n",
            "Epoch 6/10\n",
            "150/150 [==============================] - 0s 2ms/step - loss: 0.2901 - accuracy: 0.8837\n",
            "Epoch 7/10\n",
            "150/150 [==============================] - 0s 2ms/step - loss: 0.2895 - accuracy: 0.8837\n",
            "Epoch 8/10\n",
            "150/150 [==============================] - 0s 2ms/step - loss: 0.2887 - accuracy: 0.8837\n",
            "Epoch 9/10\n",
            "150/150 [==============================] - 0s 2ms/step - loss: 0.2883 - accuracy: 0.8837\n",
            "Epoch 10/10\n",
            "150/150 [==============================] - 0s 2ms/step - loss: 0.2874 - accuracy: 0.8867\n"
          ]
        },
        {
          "output_type": "execute_result",
          "data": {
            "text/plain": [
              "<keras.callbacks.History at 0x7f363c7f3890>"
            ]
          },
          "metadata": {},
          "execution_count": 80
        }
      ],
      "source": [
        "# Fitting the ANN to the Training set\n",
        "classifier.fit(X_train, y_train, batch_size = 100, epochs = 10)"
      ]
    },
    {
      "cell_type": "code",
      "execution_count": 81,
      "id": "tHuLGz3uCtyV",
      "metadata": {
        "id": "tHuLGz3uCtyV"
      },
      "outputs": [],
      "source": [
        "# predicting the testing set results\n",
        "y_pred = classifier.predict(X_test)"
      ]
    },
    {
      "cell_type": "code",
      "execution_count": 82,
      "id": "WRgp2hWtEenO",
      "metadata": {
        "id": "WRgp2hWtEenO"
      },
      "outputs": [],
      "source": [
        "y_pred = y_pred > 0.50"
      ]
    },
    {
      "cell_type": "code",
      "execution_count": 83,
      "id": "eqGFO8C8BKyu",
      "metadata": {
        "colab": {
          "base_uri": "https://localhost:8080/",
          "height": 298
        },
        "id": "eqGFO8C8BKyu",
        "outputId": "e2d06a53-1a1b-4e11-afc2-64a7526e976a"
      },
      "outputs": [
        {
          "output_type": "display_data",
          "data": {
            "text/plain": [
              "<Figure size 360x288 with 2 Axes>"
            ],
            "image/png": "[encoded data removed]"
          },
          "metadata": {
            "needs_background": "light"
          }
        },
        {
          "output_type": "stream",
          "name": "stdout",
          "text": [
            "Test Data Accuracy: 0.6056\n"
          ]
        }
      ],
      "source": [
        "# importing confusion matrix and roc_auc_score from sklearn\n",
        "from sklearn.metrics import confusion_matrix\n",
        "from sklearn.metrics import roc_auc_score\n",
        "\n",
        "# importing seaborn for plotting the heatmap\n",
        "import seaborn as sn\n",
        "\n",
        "cm = confusion_matrix(y_test, y_pred) # rows = truth, cols = prediction\n",
        "df_cm = pd.DataFrame(cm, index = ('no', 'yes'), columns = ('predicted no',\n",
        "                                                           'predicted yes'))\n",
        "plt.figure(figsize = (5,4))\n",
        "plt.title('Confusion Matrix')\n",
        "plt.xlabel('Predicted')\n",
        "plt.ylabel('Actual')\n",
        "sn.set(font_scale=1.4)\n",
        "sn.heatmap(df_cm, annot=True, fmt='g')\n",
        "plt.show()\n",
        "print(\"Test Data Accuracy: %0.4f\" % roc_auc_score(y_test, y_pred))"
      ]
    },
    {
      "cell_type": "code",
      "execution_count": 84,
      "id": "aAhi2A1MBK-o",
      "metadata": {
        "colab": {
          "base_uri": "https://localhost:8080/",
          "height": 315
        },
        "id": "aAhi2A1MBK-o",
        "outputId": "b1a14db4-20d7-4f33-dce4-3f2d7429edb6"
      },
      "outputs": [
        {
          "output_type": "display_data",
          "data": {
            "text/plain": [
              "<Figure size 432x288 with 1 Axes>"
            ],
            "image/png": "[encoded data removed]"
          },
          "metadata": {}
        }
      ],
      "source": [
        "fpr, tpr, threshold = metrics.roc_curve(y_test, y_pred)\n",
        "roc_auc=roc_auc_score(y_test, y_pred)\n",
        "\n",
        "plt.title('Receiver Operating Characteristic')\n",
        "plt.plot(fpr, tpr, label='AUC = %0.2f'% roc_auc)\n",
        "plt.legend(loc='lower right')\n",
        "plt.plot([0,1],[0,1],'r--')\n",
        "plt.xlim([-0.001, 1])\n",
        "plt.ylim([0, 1.001])\n",
        "plt.ylabel('True Positive Rate')\n",
        "plt.xlabel('False Positive Rate')\n",
        "plt.show()"
      ]
    },
    {
      "cell_type": "markdown",
      "source": [
        "Area under ROC curve is 61  which very minimum when compare al the three models built and has the best predicting efficiency compared to all 3 built above"
      ],
      "metadata": {
        "id": "kvSVAzXzHWui"
      },
      "id": "kvSVAzXzHWui"
    },
    {
      "cell_type": "markdown",
      "id": "cd769709",
      "metadata": {
        "id": "cd769709"
      },
      "source": [
        "# Conclusion"
      ]
    },
    {
      "cell_type": "markdown",
      "id": "17292414",
      "metadata": {
        "id": "17292414"
      },
      "source": [
        "So as goal to predict the subscription of the customer for term depoti in the bank we have practide the models wit feeded inputs and trained it , as we have test the data on that we an observer among logistic regression, Random forest and ANN,Random forest over the smapled data performs well as F1 score is 94 and ROC , AUC curve is 76. and ANN IS ROC IS 61 which is best of all 3.\n",
        "so we can explore more by using hyperparameter tuning methood , on above executed algorithims and also by wisely using the duration of the call by converting them in tminutes and categoring them in to binary values. which wil result more accurate prediction of subscribing customers "
      ]
    }
  ],
  "metadata": {
    "colab": {
      "collapsed_sections": [],
      "name": "MA336_2111312_ASHOK_RAM_MUTHURAMAN_AI_&_ML_(2) (1).ipynb",
      "provenance": []
    },
    "kernelspec": {
      "display_name": "Python 3 (ipykernel)",
      "language": "python",
      "name": "python3"
    },
    "language_info": {
      "codemirror_mode": {
        "name": "ipython",
        "version": 3
      },
      "file_extension": ".py",
      "mimetype": "text/x-python",
      "name": "python",
      "nbconvert_exporter": "python",
      "pygments_lexer": "ipython3",
      "version": "3.9.7"
    }
  },
  "nbformat": 4,
  "nbformat_minor": 5
}